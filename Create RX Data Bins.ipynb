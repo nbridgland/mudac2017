{
 "cells": [
  {
   "cell_type": "code",
   "execution_count": 39,
   "metadata": {},
   "outputs": [],
   "source": [
    "import csv\n",
    "import numpy as np\n",
    "import pandas as pd\n",
    "import matplotlib.pyplot as plt\n",
    "import seaborn as sns\n",
    "import os.path\n",
    "import math\n",
    "import time\n",
    "import functions"
   ]
  },
  {
   "cell_type": "code",
   "execution_count": 5,
   "metadata": {},
   "outputs": [],
   "source": [
    "filepath ='data/'\n",
    "with open(filepath+'rx_training.csv') as datafile:\n",
    "    filecontents = csv.reader(datafile, delimiter = \",\")\n",
    "    data = list(filecontents)\n",
    "\n",
    "rxdata = pd.DataFrame(data)\n",
    "rxdata.columns = rxdata.iloc[0]\n",
    "rxdata = rxdata[1:]"
   ]
  },
  {
   "cell_type": "code",
   "execution_count": 13,
   "metadata": {
    "collapsed": true
   },
   "outputs": [],
   "source": [
    "rxdata['DAYS_FROM_DIAG']=rxdata['DAYS_FROM_DIAG'].apply(pd.to_numeric) #convert days from diagnosis to numeric\n",
    "rxdata.loc[rxdata['STD_COST']=='None', 'STD_COST']=0\n",
    "rxdata['STD_COST']=rxdata['STD_COST'].apply(pd.to_numeric)"
   ]
  },
  {
   "cell_type": "code",
   "execution_count": 36,
   "metadata": {
    "collapsed": true
   },
   "outputs": [
    {
     "name": "stdout",
     "output_type": "stream",
     "text": [
      "1095\n",
      "-727\n"
     ]
    }
   ],
   "source": [
    "#Create 5-day bins and bin labels. I think this puts bin 0 at bin 0,5\n",
    "print rxdata.DAYS_FROM_DIAG.max() #Find max days from diagnosis\n",
    "print rxdata.DAYS_FROM_DIAG.min() #Find minimum days before diagnosis\n",
    "min_day = rxdata.DAYS_FROM_DIAG.min()\n",
    "max_day = rxdata.DAYS_FROM_DIAG.max()\n",
    "#Compute the number of bins at some point, didn't automate this\n",
    "rxdata['fivedaybin'] = pd.cut(rxdata['DAYS_FROM_DIAG'], range(-730, 1100, 5), right=False) #bin by 5 days rounding on the outside to nice numbers\n",
    "r5=range(-730,1100+5,5) #define bin edges\n",
    "binlabel5=range(-147,219) #number of negative bins, number of positive bins. Remembering how range works means it should put bin 0 in the correct spot\n",
    "#categories = pd.cut(rxdata['DAYS_FROM_DIAG'], r, labels=binlabel) #run this if you want to see the bin labels\n",
    "#print categories\n",
    "rxdata['fivedaybin_id'] = pd.cut(rxdata['DAYS_FROM_DIAG'], r5, labels=binlabel5)\n",
    "#print rxdata.head(n=3)"
   ]
  },
  {
   "cell_type": "code",
   "execution_count": 8,
   "metadata": {
    "collapsed": true
   },
   "outputs": [
    {
     "name": "stdout",
     "output_type": "stream",
     "text": [
      "-104\n",
      "157\n"
     ]
    }
   ],
   "source": [
    "#Create 7-day bins and bin labels.\n",
    "rxdata['sevendaybin']=pd.cut(rxdata['DAYS_FROM_DIAG'],range(-728,1099,7),right=False) #create the bins\n",
    "numbins = (728+1099)/7 #automate endpoint search? Probably not worth it\n",
    "numneg = -728/7\n",
    "numpos=1099/7\n",
    "print numneg\n",
    "print numpos\n",
    "r7=range(-728,1099+7,7)\n",
    "binlabel7=range(numneg,numpos)\n",
    "rxdata['sevendaybin_id'] = pd.cut(rxdata['DAYS_FROM_DIAG'], r7, labels=binlabel7)\n",
    "#print rxdata.head(n=3)"
   ]
  },
  {
   "cell_type": "code",
   "execution_count": 9,
   "metadata": {
    "collapsed": true
   },
   "outputs": [
    {
     "name": "stdout",
     "output_type": "stream",
     "text": [
      "-73\n",
      "110\n"
     ]
    }
   ],
   "source": [
    "#Create 10-day bins and bin labels.\n",
    "rxdata['tendaybin']=pd.cut(rxdata['DAYS_FROM_DIAG'],range(-730,1100,10),right=False) #create the bins\n",
    "numbins = (730+1100)/10 #automate endpoint search? Probably not worth it\n",
    "numneg = -730/10\n",
    "numpos=1100/10\n",
    "print numneg\n",
    "print numpos\n",
    "r10=range(-730,1100+10,10)\n",
    "binlabel10=range(numneg,numpos)\n",
    "rxdata['tendaybin_id'] = pd.cut(rxdata['DAYS_FROM_DIAG'], r10, labels=binlabel10)\n",
    "#print rxdata.head(n=3)"
   ]
  },
  {
   "cell_type": "code",
   "execution_count": 10,
   "metadata": {
    "collapsed": true
   },
   "outputs": [
    {
     "name": "stdout",
     "output_type": "stream",
     "text": [
      "-37\n",
      "55\n",
      "0          PATID       CLMID  AHFSCLSS DAYS_SUP QUANTITY STD_COST  \\\n",
      "1  33051763235.0  1601702440  08140800        2    2.000     1.42   \n",
      "2  33051763235.0  1601702325  08309200        7   14.000     6.06   \n",
      "3  33051763235.0  1470992483  12200400       30   90.000     7.54   \n",
      "\n",
      "0  DAYS_FROM_DIAG    fivedaybin fivedaybin_id   sevendaybin sevendaybin_id  \\\n",
      "1            -115  [-115, -110)           -25  [-119, -112)            -17   \n",
      "2            -115  [-115, -110)           -25  [-119, -112)            -17   \n",
      "3            -169  [-170, -165)           -35  [-175, -168)            -25   \n",
      "\n",
      "0     tendaybin tendaybin_id  twentydaybin twentydaybin_id  \n",
      "1  [-120, -110)          -12  [-120, -100)              -6  \n",
      "2  [-120, -110)          -12  [-120, -100)              -6  \n",
      "3  [-170, -160)          -17  [-180, -160)              -9  \n"
     ]
    }
   ],
   "source": [
    "#Create 20-day bins and bin labels.\n",
    "rxdata['twentydaybin']=pd.cut(rxdata['DAYS_FROM_DIAG'],range(-740,1100,20),right=False) #create the bins\n",
    "numbins = (740+1100)/20 #automate endpoint search? Probably not worth it\n",
    "numneg = -740/20\n",
    "numpos=1100/20\n",
    "print numneg\n",
    "print numpos\n",
    "r20=range(-740,1100+20,20)\n",
    "binlabel20=range(numneg,numpos)\n",
    "rxdata['twentydaybin_id'] = pd.cut(rxdata['DAYS_FROM_DIAG'], r20, labels=binlabel20)\n",
    "print rxdata.head(n=3)"
   ]
  },
  {
   "cell_type": "code",
   "execution_count": 42,
   "metadata": {},
   "outputs": [
    {
     "name": "stdout",
     "output_type": "stream",
     "text": [
      "-25\n",
      "36\n",
      "0          PATID       CLMID  AHFSCLSS DAYS_SUP QUANTITY  STD_COST  \\\n",
      "1  33051763235.0  1601702440  08140800        2    2.000      1.42   \n",
      "2  33051763235.0  1601702325  08309200        7   14.000      6.06   \n",
      "3  33051763235.0  1470992483  12200400       30   90.000      7.54   \n",
      "\n",
      "0  DAYS_FROM_DIAG    fivedaybin fivedaybin_id   sevendaybin sevendaybin_id  \\\n",
      "1            -115  [-115, -110)           -25  [-119, -112)            -17   \n",
      "2            -115  [-115, -110)           -25  [-119, -112)            -17   \n",
      "3            -169  [-170, -165)           -35  [-175, -168)            -25   \n",
      "\n",
      "0     tendaybin tendaybin_id  twentydaybin twentydaybin_id  thirtydaybin  \\\n",
      "1  [-120, -110)          -12  [-120, -100)              -6   [-120, -90)   \n",
      "2  [-120, -110)          -12  [-120, -100)              -6   [-120, -90)   \n",
      "3  [-170, -160)          -17  [-180, -160)              -9  [-180, -150)   \n",
      "\n",
      "0 thirtydaybin_id  \n",
      "1              -4  \n",
      "2              -4  \n",
      "3              -6  \n"
     ]
    }
   ],
   "source": [
    "#Create 30-day bins and bin labels.\n",
    "binsize = 30\n",
    "numbins = int(math.ceil(-min_day/binsize) + math.ceil(max_day/binsize)) #automate endpoint search? Probably not worth it\n",
    "numneg = int(math.ceil(min_day/binsize))\n",
    "numpos = int(math.ceil(max_day/binsize))\n",
    "print numneg\n",
    "print numpos\n",
    "r30=range(numneg*binsize,(numpos+1)*binsize,binsize)\n",
    "binlabel30=range(numneg,numpos)\n",
    "rxdata['thirtydaybin']=pd.cut(rxdata['DAYS_FROM_DIAG'],r30,right=False) #create the bins\n",
    "rxdata['thirtydaybin_id'] = pd.cut(rxdata['DAYS_FROM_DIAG'], r30, labels=binlabel30)\n",
    "print rxdata.head(n=3)"
   ]
  },
  {
   "cell_type": "code",
   "execution_count": 43,
   "metadata": {},
   "outputs": [
    {
     "name": "stdout",
     "output_type": "stream",
     "text": [
      "-13\n",
      "18\n",
      "0          PATID       CLMID  AHFSCLSS DAYS_SUP QUANTITY  STD_COST  \\\n",
      "1  33051763235.0  1601702440  08140800        2    2.000      1.42   \n",
      "2  33051763235.0  1601702325  08309200        7   14.000      6.06   \n",
      "3  33051763235.0  1470992483  12200400       30   90.000      7.54   \n",
      "\n",
      "0  DAYS_FROM_DIAG    fivedaybin fivedaybin_id   sevendaybin sevendaybin_id  \\\n",
      "1            -115  [-115, -110)           -25  [-119, -112)            -17   \n",
      "2            -115  [-115, -110)           -25  [-119, -112)            -17   \n",
      "3            -169  [-170, -165)           -35  [-175, -168)            -25   \n",
      "\n",
      "0     tendaybin tendaybin_id  twentydaybin twentydaybin_id  thirtydaybin  \\\n",
      "1  [-120, -110)          -12  [-120, -100)              -6   [-120, -90)   \n",
      "2  [-120, -110)          -12  [-120, -100)              -6   [-120, -90)   \n",
      "3  [-170, -160)          -17  [-180, -160)              -9  [-180, -150)   \n",
      "\n",
      "0 thirtydaybin_id   sixtydaybin sixtydaybin_id  \n",
      "1              -4   [-120, -60)             -2  \n",
      "2              -4   [-120, -60)             -2  \n",
      "3              -6  [-180, -120)             -3  \n"
     ]
    }
   ],
   "source": [
    "#Create 60-day bins and bin labels.\n",
    "binsize = 60\n",
    "numbins = int(math.ceil(-min_day/binsize) + math.ceil(max_day/binsize)) #automate endpoint search? Probably not worth it\n",
    "numneg = int(math.ceil(min_day/binsize))\n",
    "numpos = int(math.ceil(max_day/binsize))\n",
    "print numneg\n",
    "print numpos\n",
    "r30=range(numneg*binsize,(numpos+1)*binsize,binsize)\n",
    "binlabel30=range(numneg,numpos)\n",
    "rxdata['sixtydaybin']=pd.cut(rxdata['DAYS_FROM_DIAG'],r30,right=False) #create the bins\n",
    "rxdata['sixtydaybin_id'] = pd.cut(rxdata['DAYS_FROM_DIAG'], r30, labels=binlabel30)\n",
    "print rxdata.head(n=3)"
   ]
  },
  {
   "cell_type": "code",
   "execution_count": 44,
   "metadata": {},
   "outputs": [
    {
     "name": "stdout",
     "output_type": "stream",
     "text": [
      "-7\n",
      "9\n",
      "0          PATID       CLMID  AHFSCLSS DAYS_SUP QUANTITY  STD_COST  \\\n",
      "1  33051763235.0  1601702440  08140800        2    2.000      1.42   \n",
      "2  33051763235.0  1601702325  08309200        7   14.000      6.06   \n",
      "3  33051763235.0  1470992483  12200400       30   90.000      7.54   \n",
      "\n",
      "0  DAYS_FROM_DIAG    fivedaybin fivedaybin_id   sevendaybin  \\\n",
      "1            -115  [-115, -110)           -25  [-119, -112)   \n",
      "2            -115  [-115, -110)           -25  [-119, -112)   \n",
      "3            -169  [-170, -165)           -35  [-175, -168)   \n",
      "\n",
      "0        ...             tendaybin tendaybin_id  twentydaybin twentydaybin_id  \\\n",
      "1        ...          [-120, -110)          -12  [-120, -100)              -6   \n",
      "2        ...          [-120, -110)          -12  [-120, -100)              -6   \n",
      "3        ...          [-170, -160)          -17  [-180, -160)              -9   \n",
      "\n",
      "0  thirtydaybin thirtydaybin_id   sixtydaybin sixtydaybin_id onetwentydaybin  \\\n",
      "1   [-120, -90)              -4   [-120, -60)             -2       [-120, 0)   \n",
      "2   [-120, -90)              -4   [-120, -60)             -2       [-120, 0)   \n",
      "3  [-180, -150)              -6  [-180, -120)             -3    [-240, -120)   \n",
      "\n",
      "0 onetwentydaybin_id  \n",
      "1                 -1  \n",
      "2                 -1  \n",
      "3                 -2  \n",
      "\n",
      "[3 rows x 21 columns]\n"
     ]
    }
   ],
   "source": [
    "#Create 120-day bins and bin labels.\n",
    "binsize = 120\n",
    "numbins = int(math.ceil(-min_day/binsize) + math.ceil(max_day/binsize)) #automate endpoint search? Probably not worth it\n",
    "numneg = int(math.ceil(min_day/binsize))\n",
    "numpos = int(math.ceil(max_day/binsize))\n",
    "print numneg\n",
    "print numpos\n",
    "r30=range(numneg*binsize,(numpos+1)*binsize,binsize)\n",
    "binlabel30=range(numneg,numpos)\n",
    "rxdata['onetwentydaybin']=pd.cut(rxdata['DAYS_FROM_DIAG'],r30,right=False) #create the bins\n",
    "rxdata['onetwentydaybin_id'] = pd.cut(rxdata['DAYS_FROM_DIAG'], r30, labels=binlabel30)\n",
    "print rxdata.head(n=3)"
   ]
  },
  {
   "cell_type": "code",
   "execution_count": 48,
   "metadata": {},
   "outputs": [
    {
     "data": {
      "image/png": "[encoded data removed]",
      "text/plain": [
       "<matplotlib.figure.Figure at 0x7fd29ec585d0>"
      ]
     },
     "metadata": {},
     "output_type": "display_data"
    }
   ],
   "source": [
    "temp = rxdata.groupby(['PATID', 'sixtydaybin_id'])['STD_COST'].sum().reset_index(name='bin_cost')\n",
    "\n",
    "temp.groupby(['sixtydaybin_id'])['bin_cost'].mean().plot()\n",
    "plt.show()"
   ]
  },
  {
   "cell_type": "code",
   "execution_count": null,
   "metadata": {},
   "outputs": [],
   "source": []
  }
 ],
 "metadata": {
  "kernelspec": {
   "display_name": "Python 2",
   "language": "python",
   "name": "python2"
  },
  "language_info": {
   "codemirror_mode": {
    "name": "ipython",
    "version": 2
   },
   "file_extension": ".py",
   "mimetype": "text/x-python",
   "name": "python",
   "nbconvert_exporter": "python",
   "pygments_lexer": "ipython2",
   "version": "2.7.13"
  }
 },
 "nbformat": 4,
 "nbformat_minor": 2
}
