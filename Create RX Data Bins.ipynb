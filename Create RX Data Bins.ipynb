{
 "cells": [
  {
   "cell_type": "code",
   "execution_count": null,
   "metadata": {
    "collapsed": true
   },
   "outputs": [],
   "source": [
    "rxdata['DAYS_FROM_DIAG']=rxdata['DAYS_FROM_DIAG'].apply(pd.to_numeric) #convert days from diagnosis to numeric"
   ]
  },
  {
   "cell_type": "code",
   "execution_count": null,
   "metadata": {
    "collapsed": true
   },
   "outputs": [],
   "source": [
    "#Create 5-day bins and bin labels. I think this puts bin 0 at bin 0,5\n",
    "print rxdata.DAYS_FROM_DIAG.max() #Find max days from diagnosis\n",
    "print rxdata.DAYS_FROM_DIAG.min() #Find minimum days before diagnosis\n",
    "#Compute the number of bins at some point, didn't automate this\n",
    "rxdata['fivedaybin'] = pd.cut(rxdata['DAYS_FROM_DIAG'], range(-730, 1100, 5), right=False) #bin by 5 days rounding on the outside to nice numbers\n",
    "r5=range(-730,1100+5,5) #define bin edges\n",
    "binlabel5=range(-147,219) #number of negative bins, number of positive bins. Remembering how range works means it should put bin 0 in the correct spot\n",
    "#categories = pd.cut(rxdata['DAYS_FROM_DIAG'], r, labels=binlabel) #run this if you want to see the bin labels\n",
    "#print categories\n",
    "rxdata['fivedaybin_id'] = pd.cut(rxdata['DAYS_FROM_DIAG'], r5, labels=binlabel5)\n",
    "#print rxdata.head(n=3)"
   ]
  },
  {
   "cell_type": "code",
   "execution_count": null,
   "metadata": {
    "collapsed": true
   },
   "outputs": [],
   "source": [
    "#Create 7-day bins and bin labels.\n",
    "rxdata['sevendaybin']=pd.cut(rxdata['DAYS_FROM_DIAG'],range(-728,1099,7),right=False) #create the bins\n",
    "numbins = (728+1099)/7 #automate endpoint search? Probably not worth it\n",
    "numneg = -728/7\n",
    "numpos=1099/7\n",
    "print numneg\n",
    "print numpos\n",
    "r7=range(-728,1099+7,7)\n",
    "binlabel7=range(numneg,numpos)\n",
    "rxdata['sevendaybin_id'] = pd.cut(rxdata['DAYS_FROM_DIAG'], r7, labels=binlabel7)\n",
    "#print rxdata.head(n=3)"
   ]
  },
  {
   "cell_type": "code",
   "execution_count": null,
   "metadata": {
    "collapsed": true
   },
   "outputs": [],
   "source": [
    "#Create 10-day bins and bin labels.\n",
    "rxdata['tendaybin']=pd.cut(rxdata['DAYS_FROM_DIAG'],range(-730,1100,10),right=False) #create the bins\n",
    "numbins = (730+1100)/10 #automate endpoint search? Probably not worth it\n",
    "numneg = -730/10\n",
    "numpos=1100/10\n",
    "print numneg\n",
    "print numpos\n",
    "r10=range(-730,1100+10,10)\n",
    "binlabel10=range(numneg,numpos)\n",
    "rxdata['tendaybin_id'] = pd.cut(rxdata['DAYS_FROM_DIAG'], r10, labels=binlabel10)\n",
    "#print rxdata.head(n=3)"
   ]
  },
  {
   "cell_type": "code",
   "execution_count": null,
   "metadata": {
    "collapsed": true
   },
   "outputs": [],
   "source": [
    "#Create 20-day bins and bin labels.\n",
    "rxdata['twentydaybin']=pd.cut(rxdata['DAYS_FROM_DIAG'],range(-740,1100,20),right=False) #create the bins\n",
    "numbins = (740+1100)/20 #automate endpoint search? Probably not worth it\n",
    "numneg = -740/20\n",
    "numpos=1100/20\n",
    "print numneg\n",
    "print numpos\n",
    "r20=range(-740,1100+20,20)\n",
    "binlabel20=range(numneg,numpos)\n",
    "rxdata['twentydaybin_id'] = pd.cut(rxdata['DAYS_FROM_DIAG'], r20, labels=binlabel20)\n",
    "print rxdata.head(n=3)"
   ]
  }
 ],
 "metadata": {
  "kernelspec": {
   "display_name": "Python 2",
   "language": "python",
   "name": "python2"
  },
  "language_info": {
   "codemirror_mode": {
    "name": "ipython",
    "version": 2
   },
   "file_extension": ".py",
   "mimetype": "text/x-python",
   "name": "python",
   "nbconvert_exporter": "python",
   "pygments_lexer": "ipython2",
   "version": "2.7.13"
  }
 },
 "nbformat": 4,
 "nbformat_minor": 2
}
