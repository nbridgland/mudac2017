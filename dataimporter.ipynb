{
 "cells": [
  {
   "cell_type": "code",
   "execution_count": null,
   "metadata": {
    "collapsed": true
   },
   "outputs": [],
   "source": [
    "import csv\n",
    "import numpy as np\n",
    "import pandas as pd\n",
    "import matplotlib.pyplot as plt\n",
    "import time\n",
    "import functions\n",
    "import math"
   ]
  },
  {
   "cell_type": "code",
   "execution_count": null,
   "metadata": {
    "collapsed": true
   },
   "outputs": [],
   "source": [
    "filepath ='data/'\n",
    "csvfilenames = ['confinement_training.csv', \n",
    "                'member_information.csv', \n",
    "                'labresults_training.csv', \n",
    "                'medical_training.csv', \n",
    "                'rx_training.csv',\n",
    "                'medical_target.csv',\n",
    "                'rx_target.csv']\n",
    "\n",
    "with open(filepath+csvfilenames[1]) as datafile:\n",
    "    filecontents = csv.reader(datafile, delimiter = \",\")\n",
    "    data = list(filecontents)\n",
    "\n",
    "members = pd.DataFrame(data)\n",
    "members.columns = members.iloc[0]\n",
    "members = members[1:]\n",
    "members = members.set_index(['PATID']) #makes PATID the row index instead of integers, not sure it's worth it.\n",
    "\n",
    "with open(filepath+csvfilenames[2]) as datafile:\n",
    "    filecontents = csv.reader(datafile, delimiter = \",\")\n",
    "    data = list(filecontents)\n",
    "\n",
    "labdata = pd.DataFrame(data)\n",
    "labdata.columns = labdata.iloc[0]\n",
    "labdata = labdata[1:]\n",
    "\n",
    "with open(filepath+csvfilenames[3]) as datafile:\n",
    "    filecontents = csv.reader(datafile, delimiter = \",\")\n",
    "    data = list(filecontents)\n",
    "\n",
    "allmedical = pd.DataFrame(data)\n",
    "allmedical.columns = allmedical.iloc[0]\n",
    "allmedical = allmedical[1:]\n",
    "\n",
    "with open(filepath+csvfilenames[4]) as datafile:\n",
    "    filecontents = csv.reader(datafile, delimiter = \",\")\n",
    "    data = list(filecontents)\n",
    "\n",
    "rxdata = pd.DataFrame(data)\n",
    "rxdata.columns = rxdata.iloc[0]\n",
    "rxdata = rxdata[1:]\n",
    "\n",
    "with open(filepath+csvfilenames[5]) as datafile:\n",
    "    filecontents = csv.reader(datafile, delimiter = \",\")\n",
    "    data = list(filecontents)\n",
    "\n",
    "targetallmedical = pd.DataFrame(data)\n",
    "targetallmedical.columns = targetallmedical.iloc[0]\n",
    "targetallmedical = targetallmedical[1:]\n",
    "\n",
    "with open(filepath+csvfilenames[6]) as datafile:\n",
    "    filecontents = csv.reader(datafile, delimiter = \",\")\n",
    "    data = list(filecontents)\n",
    "\n",
    "targetrxdata = pd.DataFrame(data)\n",
    "targetrxdata.columns = targetrxdata.iloc[0]\n",
    "targetrxdata = targetrxdata[1:]"
   ]
  },
  {
   "cell_type": "code",
   "execution_count": null,
   "metadata": {
    "collapsed": true
   },
   "outputs": [],
   "source": [
    "medical_wanted = allmedical[('630' >  allmedical.DIAG1) | (allmedical.DIAG1 > '67999')]\n",
    "medical_wanted = medical_wanted[('630' >  medical_wanted.DIAG2) | (medical_wanted.DIAG2 > '67999')]\n",
    "\n",
    "medical_wanted = medical_wanted[('800' >  medical_wanted.DIAG1) | (medical_wanted.DIAG1 > '95999')]\n",
    "medical_wanted = medical_wanted[('800' >  medical_wanted.DIAG2) | (medical_wanted.DIAG2 > '95999')]\n",
    "\n",
    "medical_wanted = medical_wanted[medical_wanted['DIAG1'].str.startswith('E') == False]\n",
    "medical_wanted = medical_wanted[medical_wanted['DIAG2'].str.startswith('E') == False]\n",
    "\n",
    "medical_wanted = medical_wanted[(medical_wanted['DIAG1'].str.startswith('V3') == False) & (medical_wanted['DIAG1'].str.startswith('V22') == False) & (medical_wanted['DIAG1'].str.startswith('V23') == False) & (medical_wanted['DIAG1'].str.startswith('V24') == False) & (medical_wanted['DIAG1'].str.startswith('V28') == False) & (medical_wanted['DIAG1'].str.startswith('V91') == False)]\n",
    "medical_wanted = medical_wanted[(medical_wanted['DIAG2'].str.startswith('V3') == False) & (medical_wanted['DIAG2'].str.startswith('V22') == False) & (medical_wanted['DIAG2'].str.startswith('V23') == False) & (medical_wanted['DIAG2'].str.startswith('V24') == False) & (medical_wanted['DIAG2'].str.startswith('V28') == False) & (medical_wanted['DIAG2'].str.startswith('V91') == False)]\n",
    "\n",
    "\n",
    "\n",
    "medical_wanted_t = targetallmedical[('630' >  targetallmedical.DIAG1) | (targetallmedical.DIAG1 > '67999')]\n",
    "medical_wanted_t = medical_wanted_t[('630' >  medical_wanted_t.DIAG2) | (medical_wanted_t.DIAG2 > '67999')]\n",
    "\n",
    "medical_wanted_t = medical_wanted_t[('800' >  medical_wanted_t.DIAG1) | (medical_wanted_t.DIAG1 > '95999')]\n",
    "medical_wanted_t = medical_wanted_t[('800' >  medical_wanted_t.DIAG2) | (medical_wanted_t.DIAG2 > '95999')]\n",
    "\n",
    "medical_wanted_t = medical_wanted_t[medical_wanted_t['DIAG1'].str.startswith('E') == False]\n",
    "medical_wanted_t = medical_wanted_t[medical_wanted_t['DIAG2'].str.startswith('E') == False]\n",
    "\n",
    "medical_wanted_t = medical_wanted_t[(medical_wanted_t['DIAG1'].str.startswith('V3') == False) & \n",
    "                                    (medical_wanted_t['DIAG1'].str.startswith('V22') == False) & \n",
    "                                    (medical_wanted_t['DIAG1'].str.startswith('V23') == False) & \n",
    "                                    (medical_wanted_t['DIAG1'].str.startswith('V24') == False) & \n",
    "                                    (medical_wanted_t['DIAG1'].str.startswith('V28') == False) & \n",
    "                                    (medical_wanted_t['DIAG1'].str.startswith('V91') == False)]\n",
    "medical_wanted_t = medical_wanted_t[(medical_wanted_t['DIAG2'].str.startswith('V3') == False) & \n",
    "                                    (medical_wanted_t['DIAG2'].str.startswith('V22') == False) & \n",
    "                                    (medical_wanted_t['DIAG2'].str.startswith('V23') == False) & \n",
    "                                    (medical_wanted_t['DIAG2'].str.startswith('V24') == False) & \n",
    "                                    (medical_wanted_t['DIAG2'].str.startswith('V28') == False) & \n",
    "                                    (medical_wanted_t['DIAG2'].str.startswith('V91') == False)]"
   ]
  },
  {
   "cell_type": "code",
   "execution_count": null,
   "metadata": {
    "collapsed": true
   },
   "outputs": [],
   "source": [
    "#medical_wanted.to_csv('trainingmedicalwanted.csv')\n",
    "#medical_wanted_t.to_csv('targetmedicalwanted.csv')"
   ]
  },
  {
   "cell_type": "code",
   "execution_count": null,
   "metadata": {
    "collapsed": true
   },
   "outputs": [],
   "source": [
    "medical_wanted['STD_COST']=medical_wanted['STD_COST'].apply(pd.to_numeric) #change entries to numbers\n",
    "rxdata.loc[rxdata['STD_COST']=='None', 'STD_COST']=0 #change all nones to zeros\n",
    "rxdata['STD_COST']=rxdata['STD_COST'].apply(pd.to_numeric) #change all entries to numbers\n",
    "members['year_of_birth']=members['year_of_birth'].apply(pd.to_numeric)\n",
    "rxdata['DAYS_FROM_DIAG'] = rxdata['DAYS_FROM_DIAG'].apply(pd.to_numeric)\n",
    "medical_wanted['DAYS_FROM_DIAG'] = medical_wanted['DAYS_FROM_DIAG'].apply(pd.to_numeric)\n",
    "\n",
    "medical_wanted_t['STD_COST']=medical_wanted_t['STD_COST'].apply(pd.to_numeric) #change entries to numbers\n",
    "targetrxdata.loc[targetrxdata['STD_COST']=='None', 'STD_COST']=0 #change all nones to zeros\n",
    "targetrxdata['STD_COST']=targetrxdata['STD_COST'].apply(pd.to_numeric) #change all entries to numbers\n",
    "targetrxdata['DAYS_FROM_DIAG'] = targetrxdata['DAYS_FROM_DIAG'].apply(pd.to_numeric)\n",
    "medical_wanted_t['DAYS_FROM_DIAG'] = medical_wanted_t['DAYS_FROM_DIAG'].apply(pd.to_numeric)"
   ]
  },
  {
   "cell_type": "code",
   "execution_count": null,
   "metadata": {
    "collapsed": true
   },
   "outputs": [],
   "source": [
    "#add training data\n",
    "members['totalcost'] = 0.0\n",
    "members['rxcost'] = 0.0\n",
    "members['medicalcost'] = 0.0\n",
    "\n",
    "dummy = rxdata.groupby('PATID')['STD_COST'].sum()\n",
    "\n",
    "for k in range(len(dummy)):\n",
    "    members.at[dummy.index[k],'totalcost'] += dummy.iat[k]\n",
    "    members.at[dummy.index[k], 'rxcost'] = dummy.iat[k]\n",
    "    \n",
    "dummy = medical_wanted.groupby('PATID')['STD_COST'].sum()\n",
    "\n",
    "for k in range(len(dummy)):\n",
    "    members.at[dummy.index[k], 'totalcost'] += dummy.iat[k]\n",
    "    members.at[dummy.index[k], 'medicalcost'] = dummy.iat[k]\n",
    "    \n",
    "\n",
    "#add target data\n",
    "members['targetcost'] = 0.0 \n",
    "members['targetrxcost'] = 0.0\n",
    "members['targetmedicalcost'] = 0.0\n",
    "\n",
    "dummy = targetrxdata.groupby('PATID')['STD_COST'].sum()\n",
    "\n",
    "\n",
    "for k in range(len(dummy)):\n",
    "    members.at[dummy.index[k],'targetcost'] += dummy.iat[k]\n",
    "    members.at[dummy.index[k], 'targetrxcost'] = dummy.iat[k]\n",
    "\n",
    "    \n",
    "dummy = medical_wanted_t.groupby('PATID')['STD_COST'].sum()\n",
    "\n",
    "\n",
    "for k in range(len(dummy)):\n",
    "    members.at[dummy.index[k], 'targetcost'] += dummy.iat[k]\n",
    "    members.at[dummy.index[k], 'targetmedicalcost'] = dummy.iat[k]"
   ]
  },
  {
   "cell_type": "code",
   "execution_count": null,
   "metadata": {
    "collapsed": true
   },
   "outputs": [],
   "source": [
    "#all potentially completely useless\n",
    "dummy = rxdata.groupby('PATID')['DAYS_FROM_DIAG'].min()\n",
    "for k in range(len(dummy)):\n",
    "    members.at[dummy.index[k], 'minrxday'] = dummy.iat[k]\n",
    "dummy = rxdata.groupby('PATID')['DAYS_FROM_DIAG'].max()\n",
    "for k in range(len(dummy)):\n",
    "    members.at[dummy.index[k], 'maxrxday'] = dummy.iat[k]\n",
    "dummy = medical_wanted.groupby('PATID')['DAYS_FROM_DIAG'].min()\n",
    "for k in range(len(dummy)):\n",
    "    members.at[dummy.index[k], 'minmedicalday'] = dummy.iat[k]\n",
    "dummy = medical_wanted.groupby('PATID')['DAYS_FROM_DIAG'].max()\n",
    "for k in range(len(dummy)):\n",
    "    members.at[dummy.index[k], 'maxmedicalday'] = dummy.iat[k]"
   ]
  },
  {
   "cell_type": "code",
   "execution_count": null,
   "metadata": {
    "collapsed": true
   },
   "outputs": [],
   "source": [
    "#Split costs into prediagnosis and postdiagnosis\n",
    "    members['prediag_medicalcost'] = 0.0\n",
    "    members['postdiag_medicalcost'] = 0.0\n",
    "    members['prediag_rxcost'] = 0.0\n",
    "    members['postdiag_rxcost'] = 0.0\n",
    "    members['prediag_totalcost'] = 0.0\n",
    "    members['postdiag_totalcost'] = 0.0\n",
    "\n",
    "    prediag_med = medical_wanted[medical_wanted.DAYS_FROM_DIAG>=0].groupby('PATID')['STD_COST'].sum()\n",
    "    postdiag_med = medical_wanted[medical_wanted.DAYS_FROM_DIAG<0].groupby('PATID')['STD_COST'].sum()\n",
    "\n",
    "    prediag_rx = rxdata[rxdata.DAYS_FROM_DIAG>=0].groupby('PATID')['STD_COST'].sum()\n",
    "    postdiag_rx = rxdata[rxdata.DAYS_FROM_DIAG<0].groupby('PATID')['STD_COST'].sum()\n",
    "\n",
    "    for k in range(len(prediag_med)):\n",
    "        members.at[prediag_med.index[k], 'prediag_medicalcost'] = prediag_med.iat[k]\n",
    "        members.at[prediag_med.index[k], 'prediag_totalcost'] += prediag_med.iat[k]\n",
    "    for k in range(len(postdiag_med)):\n",
    "        members.at[postdiag_med.index[k], 'postdiag_medicalcost'] = postdiag_med.iat[k]\n",
    "        members.at[postdiag_med.index[k], 'postdiag_totalcost'] += postdiag_med.iat[k]\n",
    "    for k in range(len(prediag_rx)):\n",
    "        members.at[prediag_rx.index[k], 'prediag_rxcost'] = prediag_rx.iat[k]\n",
    "        members.at[prediag_rx.index[k], 'prediag_totalcost'] += prediag_rx.iat[k]\n",
    "    for k in range(len(postdiag_rx)):\n",
    "        members.at[postdiag_rx.index[k], 'postdiag_rxcost'] = postdiag_rx.iat[k]\n",
    "        members.at[postdiag_rx.index[k], 'postdiag_totalcost'] += postdiag_rx.iat[k]\n",
    "\n",
    "    #Calculate average daily costs\n",
    "    members['prediag_days'] = 0       # First need to calculate number of days before and after diagnosis\n",
    "    members['postdiag_days'] = 0\n",
    "\n",
    "    members['prediag_days'] = -1 * members[['minmedicalday', 'minrxday']].min(axis=1) + 1\n",
    "    members['postdiag_days'] = members[['maxmedicalday', 'maxrxday']].max(axis=1) + 1\n",
    "\n",
    "    members['prediag_dailymedcost'] = members['prediag_medicalcost'] / members['prediag_days']\n",
    "    members['postdiag_dailymedcost'] = members['postdiag_medicalcost'] / members['postdiag_days']\n",
    "    members['prediag_dailyrxcost'] = members['prediag_rxcost'] / members['prediag_days']\n",
    "    members['postdiag_dailyrxcost'] = members['postdiag_rxcost'] / members['postdiag_days']\n",
    "    members['prediag_dailytotalcost'] = members['prediag_totalcost'] / members['prediag_days']\n",
    "    members['postdiag_dailytotalcost'] = members['postdiag_totalcost'] / members['postdiag_days']\n",
    "\n",
    "\n",
    "    members['dailymedicalcost'] = members['medicalcost'] / (members['prediag_days'] + members['postdiag_days'])\n",
    "    members['dailyrxcost'] = members['rxcost'] / (members['prediag_days'] + members['postdiag_days'])\n",
    "    members['dailytotalcost'] = members['totalcost'] / (members['prediag_days'] + members['postdiag_days'])"
   ]
  },
  {
   "cell_type": "code",
   "execution_count": null,
   "metadata": {
    "collapsed": true
   },
   "outputs": [],
   "source": [
    "#emergency=['23','24', '21', '41', '20', '42']\n",
    "medical_wanted_emergency = medical_wanted[(medical_wanted['POS'] =='23') | \n",
    "                                          (medical_wanted['POS'] =='24') | \n",
    "                                          (medical_wanted['POS'] =='21') |\n",
    "                                          (medical_wanted['POS'] =='41') |\n",
    "                                          (medical_wanted['POS'] =='20') |\n",
    "                                          (medical_wanted['POS'] =='42') ]\n",
    "members['emervisits']=0\n",
    "patids = list(members.index)\n",
    "tick = time.clock()\n",
    "patidgroups = medical_wanted_emergency.groupby('PATID')\n",
    "for k in patids:\n",
    "    try:\n",
    "        members.loc[k, 'emervisits'] = len(patidgroups.get_group(k).groupby('DAYS_FROM_DIAG'))\n",
    "    except KeyError:\n",
    "        pass\n",
    "tock = time.clock()\n",
    "print tock-tick"
   ]
  },
  {
   "cell_type": "code",
   "execution_count": null,
   "metadata": {
    "collapsed": true
   },
   "outputs": [],
   "source": [
    "#psychiatric=['53', '55', '51', '52', '57'] # 51 is inpatient faciliity, 55 is res. sub. abuse\n",
    "medical_wanted_psych = medical_wanted[(medical_wanted['POS'] =='53') | \n",
    "                                          #(medical_wanted['POS'] =='55') |\n",
    "                                          (medical_wanted['POS'] =='52') |\n",
    "                                          (medical_wanted['POS'] =='57')]\n",
    "members['psychvisits']=0\n",
    "patids = list(members.index)\n",
    "tick = time.clock()\n",
    "patidgroups = medical_wanted_psych.groupby('PATID')\n",
    "for k in patids:\n",
    "    try:\n",
    "        members.loc[k, 'psychvisits'] = len(patidgroups.get_group(k).groupby('DAYS_FROM_DIAG'))\n",
    "    except KeyError:\n",
    "        pass\n",
    "tock = time.clock()\n",
    "print tock-tick"
   ]
  },
  {
   "cell_type": "code",
   "execution_count": null,
   "metadata": {
    "collapsed": true
   },
   "outputs": [],
   "source": [
    "#regular=['11', '01', '81','22', '60', '49', '71', '62', '17', '50', '61', '03']\n",
    "medical_wanted_office = medical_wanted[(medical_wanted['POS'] =='11') | \n",
    "                                          (medical_wanted['POS'] =='01') | \n",
    "                                          (medical_wanted['POS'] =='81') |\n",
    "                                          (medical_wanted['POS'] =='22') |\n",
    "                                          (medical_wanted['POS'] =='60') |\n",
    "                                      (medical_wanted['POS'] =='49') | \n",
    "                                          (medical_wanted['POS'] =='71') |\n",
    "                                          (medical_wanted['POS'] =='62') |\n",
    "                                          (medical_wanted['POS'] =='17') |\n",
    "                                      (medical_wanted['POS'] =='50') | \n",
    "                                          (medical_wanted['POS'] =='61') |\n",
    "                                          (medical_wanted['POS'] =='03') ]\n",
    "members['officevisits']=0\n",
    "patids = list(members.index)\n",
    "tick = time.clock()\n",
    "patidgroups = medical_wanted_office.groupby('PATID')\n",
    "for k in patids:\n",
    "    try:\n",
    "        members.loc[k, 'officevisits'] = len(patidgroups.get_group(k).groupby('DAYS_FROM_DIAG'))\n",
    "    except KeyError:\n",
    "        pass\n",
    "tock = time.clock()\n",
    "print tock-tick"
   ]
  },
  {
   "cell_type": "code",
   "execution_count": null,
   "metadata": {
    "collapsed": true
   },
   "outputs": [],
   "source": [
    "#elderly=['13', '31', '32', '33']\n",
    "medical_wanted_elderly = medical_wanted[(medical_wanted['POS'] =='13') | \n",
    "                                          (medical_wanted['POS'] =='31') | \n",
    "                                          (medical_wanted['POS'] =='32') |\n",
    "                                          (medical_wanted['POS'] =='33') ]\n",
    "members['elderlyvisits']=0\n",
    "patids = list(members.index)\n",
    "tick = time.clock()\n",
    "patidgroups = medical_wanted_elderly.groupby('PATID')\n",
    "for k in patids:\n",
    "    try:\n",
    "        members.loc[k, 'elderlyvisits'] = len(patidgroups.get_group(k).groupby('DAYS_FROM_DIAG'))\n",
    "    except KeyError:\n",
    "        pass\n",
    "tock = time.clock()\n",
    "print tock-tick"
   ]
  },
  {
   "cell_type": "code",
   "execution_count": null,
   "metadata": {
    "collapsed": true
   },
   "outputs": [],
   "source": [
    "#home=['12', '14', '15']\n",
    "medical_wanted_home = medical_wanted[(medical_wanted['POS'] =='12') | \n",
    "                                          (medical_wanted['POS'] =='14') | \n",
    "                                          (medical_wanted['POS'] =='15')]\n",
    "members['homevisits']=0\n",
    "patids = list(members.index)\n",
    "tick = time.clock()\n",
    "patidgroups = medical_wanted_home.groupby('PATID')\n",
    "for k in patids:\n",
    "    try:\n",
    "        members.loc[k, 'homevisits'] = len(patidgroups.get_group(k).groupby('DAYS_FROM_DIAG'))\n",
    "    except KeyError:\n",
    "        pass\n",
    "tock = time.clock()\n",
    "print tock-tick"
   ]
  },
  {
   "cell_type": "code",
   "execution_count": null,
   "metadata": {
    "collapsed": true
   },
   "outputs": [],
   "source": [
    "#dialysis=['65']\n",
    "medical_wanted_dialysis = medical_wanted[(medical_wanted['POS'] =='65')]\n",
    "members['dialysisvisits']=0\n",
    "patids = list(members.index)\n",
    "tick = time.clock()\n",
    "patidgroups = medical_wanted_dialysis.groupby('PATID')\n",
    "for k in patids:\n",
    "    try:\n",
    "        members.loc[k, 'dialysisvisits'] = len(patidgroups.get_group(k).groupby('DAYS_FROM_DIAG'))\n",
    "    except KeyError:\n",
    "        pass\n",
    "tock = time.clock()\n",
    "print tock-tick"
   ]
  },
  {
   "cell_type": "code",
   "execution_count": null,
   "metadata": {
    "collapsed": true
   },
   "outputs": [],
   "source": [
    "#hospice=['34']\n",
    "medical_wanted_hospice = medical_wanted[(medical_wanted['POS'] =='34')]\n",
    "members['hospicevisits']=0\n",
    "patids = list(members.index)\n",
    "tick = time.clock()\n",
    "patidgroups = medical_wanted_hospice.groupby('PATID')\n",
    "for k in patids:\n",
    "    try:\n",
    "        members.loc[k, 'hospicevisits'] = len(patidgroups.get_group(k).groupby('DAYS_FROM_DIAG'))\n",
    "    except KeyError:\n",
    "        pass\n",
    "tock = time.clock()\n",
    "print tock-tick"
   ]
  },
  {
   "cell_type": "code",
   "execution_count": null,
   "metadata": {
    "collapsed": true
   },
   "outputs": [],
   "source": [
    "#unknown=['99', 'None']\n",
    "medical_wanted_unknown = medical_wanted[(medical_wanted['POS'] =='99')|\n",
    "                                        (medical_wanted['POS'] == 'None')]\n",
    "members['unknownvisits']=0\n",
    "patids = list(members.index)\n",
    "tick = time.clock()\n",
    "patidgroups = medical_wanted_unknown.groupby('PATID')\n",
    "for k in patids:\n",
    "    try:\n",
    "        members.loc[k, 'unknownvisits'] = len(patidgroups.get_group(k).groupby('DAYS_FROM_DIAG'))\n",
    "    except KeyError:\n",
    "        pass\n",
    "tock = time.clock()\n",
    "print tock-tick"
   ]
  },
  {
   "cell_type": "code",
   "execution_count": null,
   "metadata": {
    "collapsed": true
   },
   "outputs": [],
   "source": [
    "#Plot average cost for all POS codes\n",
    "location_series = medical_wanted.groupby('POS')['STD_COST'].mean()\n",
    "\n",
    "location_series.plot.bar()\n",
    "plt.ylim([0,2000])\n",
    "plt.show()\n",
    "\n",
    "#42-Ambulance\n",
    "#21- Inpatient Hospital\n",
    "#22- Outpatient Hospital\n",
    "#24- Ambulatory Surgical Center\n",
    "#31- Skilled Nursing\n",
    "#65- End stage renal disease facility"
   ]
  },
  {
   "cell_type": "code",
   "execution_count": null,
   "metadata": {
    "collapsed": true
   },
   "outputs": [],
   "source": [
    "# Add new column for region (should find a way to avoid this with groupby, but can't currently)\n",
    "members['region'] = members.apply(lambda row: functions.US_region(row), axis=1)\n",
    "\n",
    "region_series = members.groupby('region')['totalcost'].mean()\n",
    "\n",
    "region_series.plot.bar()\n",
    "plt.show()"
   ]
  },
  {
   "cell_type": "code",
   "execution_count": null,
   "metadata": {
    "collapsed": true
   },
   "outputs": [],
   "source": [
    "#members.to_csv('members.csv')"
   ]
  },
  {
   "cell_type": "code",
   "execution_count": null,
   "metadata": {
    "collapsed": true
   },
   "outputs": [],
   "source": [
    "#The next series of cells creates bins for the rx data"
   ]
  },
  {
   "cell_type": "code",
   "execution_count": null,
   "metadata": {
    "collapsed": true
   },
   "outputs": [],
   "source": [
    "#Create 5-day bins and bin labels. I think this puts bin 0 at bin 0,5\n",
    "print rxdata.DAYS_FROM_DIAG.max() #Find max days from diagnosis\n",
    "print rxdata.DAYS_FROM_DIAG.min() #Find minimum days before diagnosis\n",
    "min_day = rxdata.DAYS_FROM_DIAG.min()\n",
    "max_day = rxdata.DAYS_FROM_DIAG.max()\n",
    "#Compute the number of bins at some point, didn't automate this\n",
    "rxdata['fivedaybin'] = pd.cut(rxdata['DAYS_FROM_DIAG'], range(-730, 1100, 5), right=False) #bin by 5 days rounding on the outside to nice numbers\n",
    "r5=range(-730,1100+5,5) #define bin edges\n",
    "binlabel5=range(-147,219) #number of negative bins, number of positive bins. Remembering how range works means it should put bin 0 in the correct spot\n",
    "#categories = pd.cut(rxdata['DAYS_FROM_DIAG'], r, labels=binlabel) #run this if you want to see the bin labels\n",
    "#print categories\n",
    "rxdata['fivedaybin_id'] = pd.cut(rxdata['DAYS_FROM_DIAG'], r5, labels=binlabel5)\n",
    "#print rxdata.head(n=3)"
   ]
  },
  {
   "cell_type": "code",
   "execution_count": null,
   "metadata": {
    "collapsed": true
   },
   "outputs": [],
   "source": [
    "#Create 7-day bins and bin labels.\n",
    "rxdata['sevendaybin']=pd.cut(rxdata['DAYS_FROM_DIAG'],range(-728,1099,7),right=False) #create the bins\n",
    "numbins = (728+1099)/7 #automate endpoint search? Probably not worth it\n",
    "numneg = -728/7\n",
    "numpos=1099/7\n",
    "print numneg\n",
    "print numpos\n",
    "r7=range(-728,1099+7,7)\n",
    "binlabel7=range(numneg,numpos)\n",
    "rxdata['sevendaybin_id'] = pd.cut(rxdata['DAYS_FROM_DIAG'], r7, labels=binlabel7)\n",
    "#print rxdata.head(n=3)"
   ]
  },
  {
   "cell_type": "code",
   "execution_count": null,
   "metadata": {
    "collapsed": true
   },
   "outputs": [],
   "source": [
    "#Create 10-day bins and bin labels.\n",
    "rxdata['tendaybin']=pd.cut(rxdata['DAYS_FROM_DIAG'],range(-730,1100,10),right=False) #create the bins\n",
    "numbins = (730+1100)/10 #automate endpoint search? Probably not worth it\n",
    "numneg = -730/10\n",
    "numpos=1100/10\n",
    "print numneg\n",
    "print numpos\n",
    "r10=range(-730,1100+10,10)\n",
    "binlabel10=range(numneg,numpos)\n",
    "rxdata['tendaybin_id'] = pd.cut(rxdata['DAYS_FROM_DIAG'], r10, labels=binlabel10)\n",
    "#print rxdata.head(n=3)"
   ]
  },
  {
   "cell_type": "code",
   "execution_count": null,
   "metadata": {
    "collapsed": true
   },
   "outputs": [],
   "source": [
    "#Create 20-day bins and bin labels.\n",
    "rxdata['twentydaybin']=pd.cut(rxdata['DAYS_FROM_DIAG'],range(-740,1100,20),right=False) #create the bins\n",
    "numbins = (740+1100)/20 #automate endpoint search? Probably not worth it\n",
    "numneg = -740/20\n",
    "numpos=1100/20\n",
    "print numneg\n",
    "print numpos\n",
    "r20=range(-740,1100+20,20)\n",
    "binlabel20=range(numneg,numpos)\n",
    "rxdata['twentydaybin_id'] = pd.cut(rxdata['DAYS_FROM_DIAG'], r20, labels=binlabel20)\n",
    "#print rxdata.head(n=3)"
   ]
  },
  {
   "cell_type": "code",
   "execution_count": null,
   "metadata": {
    "collapsed": true
   },
   "outputs": [],
   "source": [
    "#Create 30-day bins and bin labels.\n",
    "binsize = 30\n",
    "numbins = int(math.ceil(-min_day/binsize) + math.ceil(max_day/binsize)) #automate endpoint search? Probably not worth it\n",
    "numneg = int(math.ceil(min_day/binsize))\n",
    "numpos = int(math.ceil(max_day/binsize))\n",
    "print numneg\n",
    "print numpos\n",
    "r30=range(numneg*binsize,(numpos+1)*binsize,binsize)\n",
    "binlabel30=range(numneg,numpos)\n",
    "rxdata['thirtydaybin']=pd.cut(rxdata['DAYS_FROM_DIAG'],r30,right=False) #create the bins\n",
    "rxdata['thirtydaybin_id'] = pd.cut(rxdata['DAYS_FROM_DIAG'], r30, labels=binlabel30)\n",
    "#print rxdata.head(n=3)"
   ]
  },
  {
   "cell_type": "code",
   "execution_count": null,
   "metadata": {
    "collapsed": true
   },
   "outputs": [],
   "source": [
    "#Create 60-day bins and bin labels.\n",
    "binsize = 60\n",
    "numbins = int(math.ceil(-min_day/binsize) + math.ceil(max_day/binsize)) #automate endpoint search? Probably not worth it\n",
    "numneg = int(math.ceil(min_day/binsize))\n",
    "numpos = int(math.ceil(max_day/binsize))\n",
    "print numneg\n",
    "print numpos\n",
    "r30=range(numneg*binsize,(numpos+1)*binsize,binsize)\n",
    "binlabel30=range(numneg,numpos)\n",
    "rxdata['sixtydaybin']=pd.cut(rxdata['DAYS_FROM_DIAG'],r30,right=False) #create the bins\n",
    "rxdata['sixtydaybin_id'] = pd.cut(rxdata['DAYS_FROM_DIAG'], r30, labels=binlabel30)\n",
    "#print rxdata.head(n=3)"
   ]
  },
  {
   "cell_type": "code",
   "execution_count": null,
   "metadata": {
    "collapsed": true
   },
   "outputs": [],
   "source": [
    "#Create 120-day bins and bin labels.\n",
    "binsize = 120\n",
    "numbins = int(math.ceil(-min_day/binsize) + math.ceil(max_day/binsize)) #automate endpoint search? Probably not worth it\n",
    "numneg = int(math.ceil(min_day/binsize))\n",
    "numpos = int(math.ceil(max_day/binsize))\n",
    "print numneg\n",
    "print numpos\n",
    "r30=range(numneg*binsize,(numpos+1)*binsize,binsize)\n",
    "binlabel30=range(numneg,numpos)\n",
    "rxdata['onetwentydaybin']=pd.cut(rxdata['DAYS_FROM_DIAG'],r30,right=False) #create the bins\n",
    "rxdata['onetwentydaybin_id'] = pd.cut(rxdata['DAYS_FROM_DIAG'], r30, labels=binlabel30)\n",
    "#print rxdata.head(n=3)"
   ]
  },
  {
   "cell_type": "code",
   "execution_count": null,
   "metadata": {
    "collapsed": true
   },
   "outputs": [],
   "source": [
    "temp = rxdata.groupby(['PATID', 'sixtydaybin_id'])['STD_COST'].sum().reset_index(name='bin_cost')\n",
    "\n",
    "temp.groupby(['sixtydaybin_id'])['bin_cost'].mean().plot()\n",
    "plt.show()"
   ]
  },
  {
   "cell_type": "code",
   "execution_count": null,
   "metadata": {
    "collapsed": true
   },
   "outputs": [],
   "source": [
    "#the next series of cells creates bins for the medical_wanted data"
   ]
  },
  {
   "cell_type": "code",
   "execution_count": null,
   "metadata": {
    "collapsed": true
   },
   "outputs": [],
   "source": [
    "min_day_med = medical_wanted.DAYS_FROM_DIAG.min()\n",
    "max_day_med = medical_wanted.DAYS_FROM_DIAG.max()\n",
    "print min_day_med\n",
    "print max_day_med"
   ]
  },
  {
   "cell_type": "code",
   "execution_count": null,
   "metadata": {
    "collapsed": true
   },
   "outputs": [],
   "source": [
    "#Create 5-day bins and bin labels.\n",
    "binsize = 5\n",
    "numbins = int(math.ceil(-min_day_med/binsize) + math.ceil(max_day_med/binsize)) #automate endpoint search? Probably not worth it\n",
    "numneg = int(math.ceil(min_day_med/binsize))\n",
    "numpos = int(math.ceil(max_day_med/binsize))\n",
    "print numneg\n",
    "print numpos\n",
    "r=range(numneg*binsize,(numpos+1)*binsize,binsize)\n",
    "binlabel=range(numneg,numpos)\n",
    "medical_wanted['fivedaybin']=pd.cut(medical_wanted['DAYS_FROM_DIAG'],r,right=False) #create the bins\n",
    "medical_wanted['fivedaybin_id'] = pd.cut(medical_wanted['DAYS_FROM_DIAG'], r, labels=binlabel)\n",
    "#print medical_wanted.head(n=3)"
   ]
  },
  {
   "cell_type": "code",
   "execution_count": null,
   "metadata": {
    "collapsed": true
   },
   "outputs": [],
   "source": [
    "temp = medical_wanted.groupby(['PATID', 'fivedaybin_id'])['STD_COST'].sum().reset_index(name='bin_cost')\n",
    "\n",
    "temp.groupby(['fivedaybin_id'])['bin_cost'].mean().plot()\n",
    "plt.show()"
   ]
  },
  {
   "cell_type": "code",
   "execution_count": null,
   "metadata": {
    "collapsed": true
   },
   "outputs": [],
   "source": [
    "#Create 7-day bins and bin labels.\n",
    "binsize = 7\n",
    "numbins = int(math.ceil(-min_day_med/binsize) + math.ceil(max_day_med/binsize)) #automate endpoint search? Probably not worth it\n",
    "numneg = int(math.ceil(min_day_med/binsize))\n",
    "numpos = int(math.ceil(max_day_med/binsize))\n",
    "print numneg\n",
    "print numpos\n",
    "r=range(numneg*binsize,(numpos+1)*binsize,binsize)\n",
    "binlabel=range(numneg,numpos)\n",
    "medical_wanted['sevendaybin']=pd.cut(medical_wanted['DAYS_FROM_DIAG'],r,right=False) #create the bins\n",
    "medical_wanted['sevendaybin_id'] = pd.cut(medical_wanted['DAYS_FROM_DIAG'], r, labels=binlabel)\n",
    "#print medical_wanted.head(n=3)"
   ]
  },
  {
   "cell_type": "code",
   "execution_count": null,
   "metadata": {
    "collapsed": true
   },
   "outputs": [],
   "source": [
    "temp = medical_wanted.groupby(['PATID', 'sevendaybin_id'])['STD_COST'].sum().reset_index(name='bin_cost')\n",
    "\n",
    "temp.groupby(['sevendaybin_id'])['bin_cost'].mean().plot()\n",
    "plt.show()"
   ]
  },
  {
   "cell_type": "code",
   "execution_count": null,
   "metadata": {
    "collapsed": true
   },
   "outputs": [],
   "source": [
    "#Create 10-day bins and bin labels.\n",
    "binsize = 10\n",
    "numbins = int(math.ceil(-min_day_med/binsize) + math.ceil(max_day_med/binsize)) #automate endpoint search? Probably not worth it\n",
    "numneg = int(math.ceil(min_day_med/binsize))\n",
    "numpos = int(math.ceil(max_day_med/binsize))\n",
    "print numneg\n",
    "print numpos\n",
    "r=range(numneg*binsize,(numpos+1)*binsize,binsize)\n",
    "binlabel=range(numneg,numpos)\n",
    "medical_wanted['tendaybin']=pd.cut(medical_wanted['DAYS_FROM_DIAG'],r,right=False) #create the bins\n",
    "medical_wanted['tendaybin_id'] = pd.cut(medical_wanted['DAYS_FROM_DIAG'], r, labels=binlabel)\n",
    "#print medical_wanted.head(n=3)"
   ]
  },
  {
   "cell_type": "code",
   "execution_count": null,
   "metadata": {
    "collapsed": true
   },
   "outputs": [],
   "source": [
    "temp = medical_wanted.groupby(['PATID', 'tendaybin_id'])['STD_COST'].sum().reset_index(name='bin_cost')\n",
    "\n",
    "temp.groupby(['tendaybin_id'])['bin_cost'].mean().plot()\n",
    "plt.show()"
   ]
  },
  {
   "cell_type": "code",
   "execution_count": null,
   "metadata": {
    "collapsed": true
   },
   "outputs": [],
   "source": [
    "#Create 20-day bins and bin labels.\n",
    "binsize = 20\n",
    "numbins = int(math.ceil(-min_day_med/binsize) + math.ceil(max_day_med/binsize)) #automate endpoint search? Probably not worth it\n",
    "numneg = int(math.ceil(min_day_med/binsize))\n",
    "numpos = int(math.ceil(max_day_med/binsize))\n",
    "print numneg\n",
    "print numpos\n",
    "r=range(numneg*binsize,(numpos+1)*binsize,binsize)\n",
    "binlabel=range(numneg,numpos)\n",
    "medical_wanted['twentydaybin']=pd.cut(medical_wanted['DAYS_FROM_DIAG'],r,right=False) #create the bins\n",
    "medical_wanted['twentydaybin_id'] = pd.cut(medical_wanted['DAYS_FROM_DIAG'], r, labels=binlabel)\n",
    "#print medical_wanted.head(n=3)"
   ]
  },
  {
   "cell_type": "code",
   "execution_count": null,
   "metadata": {
    "collapsed": true
   },
   "outputs": [],
   "source": [
    "temp = medical_wanted.groupby(['PATID', 'twentydaybin_id'])['STD_COST'].sum().reset_index(name='bin_cost')\n",
    "\n",
    "temp.groupby(['twentydaybin_id'])['bin_cost'].mean().plot()\n",
    "plt.show()"
   ]
  },
  {
   "cell_type": "code",
   "execution_count": null,
   "metadata": {
    "collapsed": true
   },
   "outputs": [],
   "source": [
    "#Create 30-day bins and bin labels.\n",
    "binsize = 30\n",
    "numbins = int(math.ceil(-min_day_med/binsize) + math.ceil(max_day_med/binsize)) #automate endpoint search? Probably not worth it\n",
    "numneg = int(math.ceil(min_day_med/binsize))\n",
    "numpos = int(math.ceil(max_day_med/binsize))\n",
    "print numneg\n",
    "print numpos\n",
    "r=range(numneg*binsize,(numpos+1)*binsize,binsize)\n",
    "binlabel=range(numneg,numpos)\n",
    "medical_wanted['thirtydaybin']=pd.cut(medical_wanted['DAYS_FROM_DIAG'],r,right=False) #create the bins\n",
    "medical_wanted['thirtydaybin_id'] = pd.cut(medical_wanted['DAYS_FROM_DIAG'], r, labels=binlabel)\n",
    "#print medical_wanted.head(n=3)"
   ]
  },
  {
   "cell_type": "code",
   "execution_count": null,
   "metadata": {
    "collapsed": true
   },
   "outputs": [],
   "source": [
    "temp = medical_wanted.groupby(['PATID', 'thirtydaybin_id'])['STD_COST'].sum().reset_index(name='bin_cost')\n",
    "\n",
    "temp.groupby(['thirtydaybin_id'])['bin_cost'].mean().plot()\n",
    "plt.show()"
   ]
  },
  {
   "cell_type": "code",
   "execution_count": null,
   "metadata": {
    "collapsed": true
   },
   "outputs": [],
   "source": [
    "#Create 60-day bins and bin labels.\n",
    "binsize = 60\n",
    "numbins = int(math.ceil(-min_day_med/binsize) + math.ceil(max_day_med/binsize)) #automate endpoint search? Probably not worth it\n",
    "numneg = int(math.ceil(min_day_med/binsize))\n",
    "numpos = int(math.ceil(max_day_med/binsize))\n",
    "print numneg\n",
    "print numpos\n",
    "r=range(numneg*binsize,(numpos+1)*binsize,binsize)\n",
    "binlabel=range(numneg,numpos)\n",
    "medical_wanted['sixtydaybin']=pd.cut(medical_wanted['DAYS_FROM_DIAG'],r,right=False) #create the bins\n",
    "medical_wanted['sixtydaybin_id'] = pd.cut(medical_wanted['DAYS_FROM_DIAG'], r, labels=binlabel)\n",
    "#print medical_wanted.head(n=3)"
   ]
  },
  {
   "cell_type": "code",
   "execution_count": null,
   "metadata": {
    "collapsed": true
   },
   "outputs": [],
   "source": [
    "temp = medical_wanted.groupby(['PATID', 'sixtydaybin_id'])['STD_COST'].sum().reset_index(name='bin_cost')\n",
    "\n",
    "temp.groupby(['sixtydaybin_id'])['bin_cost'].mean().plot()\n",
    "plt.show()"
   ]
  },
  {
   "cell_type": "code",
   "execution_count": null,
   "metadata": {
    "collapsed": true
   },
   "outputs": [],
   "source": [
    "#Create 120-day bins and bin labels.\n",
    "binsize = 120\n",
    "numbins = int(math.ceil(-min_day_med/binsize) + math.ceil(max_day_med/binsize)) #automate endpoint search? Probably not worth it\n",
    "numneg = int(math.ceil(min_day_med/binsize))\n",
    "numpos = int(math.ceil(max_day_med/binsize))\n",
    "print numneg\n",
    "print numpos\n",
    "r=range(numneg*binsize,(numpos+1)*binsize,binsize)\n",
    "binlabel=range(numneg,numpos)\n",
    "medical_wanted['onetwentydaybin']=pd.cut(medical_wanted['DAYS_FROM_DIAG'],r,right=False) #create the bins\n",
    "medical_wanted['onetwentydaybin_id'] = pd.cut(medical_wanted['DAYS_FROM_DIAG'], r, labels=binlabel)\n",
    "#print medical_wanted.head(n=3)"
   ]
  },
  {
   "cell_type": "code",
   "execution_count": null,
   "metadata": {
    "collapsed": true
   },
   "outputs": [],
   "source": [
    "temp = medical_wanted.groupby(['PATID', 'onetwentydaybin_id'])['STD_COST'].sum().reset_index(name='bin_cost')\n",
    "\n",
    "temp.groupby(['onetwentydaybin_id'])['bin_cost'].mean().plot()\n",
    "plt.show()"
   ]
  },
  {
   "cell_type": "code",
   "execution_count": null,
   "metadata": {
    "collapsed": true
   },
   "outputs": [],
   "source": [
    "#try to find out what's going on with spike\n",
    "temp2=medical_wanted.groupby('fivedaybin_id')['STD_COST'].sum()\n",
    "temp2=temp2.sort_values(ascending=False)\n",
    "#print temp2\n",
    "\n",
    "#Bin label 205 is giving the crazy spike"
   ]
  },
  {
   "cell_type": "code",
   "execution_count": null,
   "metadata": {
    "collapsed": true
   },
   "outputs": [],
   "source": [
    "temp = medical_wanted.groupby(['PATID', 'fivedaybin_id'])['STD_COST'].sum().reset_index(name='bin_cost')\n",
    "\n",
    "temp2=temp.groupby(['fivedaybin_id'])['bin_cost'].mean()\n",
    "\n",
    "temp2=temp2.sort_values(ascending=False)\n",
    "\n",
    "print temp.head(n=3)\n",
    "print temp2"
   ]
  },
  {
   "cell_type": "code",
   "execution_count": null,
   "metadata": {
    "collapsed": true
   },
   "outputs": [],
   "source": [
    "#temp.loc[temp['fivedaybin_id']==205]"
   ]
  },
  {
   "cell_type": "code",
   "execution_count": null,
   "metadata": {
    "collapsed": true
   },
   "outputs": [],
   "source": [
    "expensive_guy=medical_wanted.loc[medical_wanted['PATID']=='33068627845.0']\n",
    "eg_bin=expensive_guy.loc[expensive_guy['fivedaybin_id']==205]\n",
    "print eg_bin.DIAG1.unique()\n",
    "#disease of tricuspid valve, viral pneumonia, hypoxemia, septicemia. Poor guy."
   ]
  },
  {
   "cell_type": "code",
   "execution_count": null,
   "metadata": {
    "collapsed": true
   },
   "outputs": [],
   "source": [
    "#This cell shows an example where the total cost doesn't cancel to zero. You can see that it looks like maybe\n",
    "#something got duplicated (look for negative entries and matching positive entries)\n",
    "#print members_sorted.loc['33022788647.0']\n",
    "medical_wanted[medical_wanted['PATID']=='33022788647.0']#Divide members into 5 bins with equal cost\n",
    "members_sorted=members.sort_values('totalcost',ascending=False)\n",
    "members_sorted['cum_totalcost']=members_sorted['totalcost'].expanding(1).sum() #compute the cumulative cost\n",
    "cost_per_bin=members_sorted.totalcost.sum()/5 #compute total cost divided by desired number of bins\n",
    "bins = [0, cost_per_bin, 2*cost_per_bin, 3*cost_per_bin, 4*cost_per_bin, 5*cost_per_bin] #create bin edges\n",
    "quintiles=[5,4,3,2,1] #'name' the bins\n",
    "members_sorted['quintile']=pd.cut(members_sorted['cum_totalcost'],bins,right=False) #create the bins\n",
    "members_sorted['quintile_id'] = pd.cut(members_sorted['cum_totalcost'], bins, labels=quintiles)\n",
    "print members_sorted.groupby('quintile_id')['totalcost'].sum() #check that we have approximately equal cost in each bin"
   ]
  },
  {
   "cell_type": "code",
   "execution_count": null,
   "metadata": {
    "collapsed": true
   },
   "outputs": [],
   "source": [
    "#Find the total number of members in each bucket for training\n",
    "print members_sorted.groupby('quintile_id')['totalcost'].count()"
   ]
  },
  {
   "cell_type": "code",
   "execution_count": null,
   "metadata": {
    "collapsed": true
   },
   "outputs": [],
   "source": [
    "#Find the min and max cost in each bucket for training\n",
    "maxlist=members_sorted.groupby('quintile_id')['totalcost'].max()\n",
    "minlist=members_sorted.groupby('quintile_id')['totalcost'].min() #Somehow there is a negative cost?\n",
    "print maxlist\n",
    "print minlist\n",
    "#Bins are -4508.80-17834.01, 17835.00-38323.95, 38330.14-76880.00, 76996.64-187896.19, 188112.68-5304105.38"
   ]
  },
  {
   "cell_type": "code",
   "execution_count": null,
   "metadata": {
    "collapsed": true
   },
   "outputs": [],
   "source": [
    "#Create bucket labels for target total cost\n",
    "bins=(members_sorted.targetcost.min(),minlist[2],minlist[3],minlist[4],minlist[5],10000000)\n",
    "print bins"
   ]
  },
  {
   "cell_type": "code",
   "execution_count": null,
   "metadata": {
    "collapsed": true
   },
   "outputs": [],
   "source": [
    "#why is there a negative minimum? Should we throw these out? How to deal with them?\n",
    "print members_sorted['totalcost'].min()\n",
    "print members_sorted['totalcost'].idxmin()"
   ]
  },
  {
   "cell_type": "code",
   "execution_count": null,
   "metadata": {
    "collapsed": true
   },
   "outputs": [],
   "source": [
    "medical_wanted_t[medical_wanted_t['STD_COST']<0]\n",
    "#It looks like there is usually an exact positive match to any positive number\n",
    "#Don't really know what we should do about these. Throw them out? Tend to think there's duplicated causing non-cancellation"
   ]
  },
  {
   "cell_type": "code",
   "execution_count": null,
   "metadata": {
    "collapsed": true
   },
   "outputs": [],
   "source": [
    "#This cell shows an example where the total cost doesn't cancel to zero. You can see that it looks like maybe\n",
    "#something got duplicated (look for negative entries and matching positive entries)\n",
    "#print members_sorted.loc['33022788647.0']\n",
    "medical_wanted[medical_wanted['PATID']=='33022788647.0']"
   ]
  }
 ],
 "metadata": {
  "kernelspec": {
   "display_name": "Python 2",
   "language": "python",
   "name": "python2"
  },
  "language_info": {
   "codemirror_mode": {
    "name": "ipython",
    "version": 2
   },
   "file_extension": ".py",
   "mimetype": "text/x-python",
   "name": "python",
   "nbconvert_exporter": "python",
   "pygments_lexer": "ipython2",
   "version": "2.7.13"
  }
 },
 "nbformat": 4,
 "nbformat_minor": 2
}
