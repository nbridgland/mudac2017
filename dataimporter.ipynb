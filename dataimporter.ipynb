{
 "cells": [
  {
   "cell_type": "code",
   "execution_count": null,
   "metadata": {},
   "outputs": [],
   "source": [
    "import csv\n",
    "import numpy as np\n",
    "import pandas as pd\n",
    "import matplotlib.pyplot as plt\n",
    "import seaborn as sns\n",
    "import os.path\n",
    "import time"
   ]
  },
  {
   "cell_type": "code",
   "execution_count": null,
   "metadata": {},
   "outputs": [],
   "source": [
    "filepath ='data/'\n",
    "csvfilenames = ['confinement_training.csv', 'member_information.csv', 'labresults_training.csv', 'medical_training.csv', 'rx_training.csv']\n",
    "txtfilenames = ['lu_diagnosis.txt', 'lu_procedure-fake.txt', 'lu_ndc.txt' ]\n",
    "\n",
    "with open(filepath+csvfilenames[0]) as datafile:\n",
    "    filecontents = csv.reader(datafile, delimiter = \",\")\n",
    "    data = list(filecontents)\n",
    "\n",
    "confinement = pd.DataFrame(data)\n",
    "confinement.columns = confinement.iloc[0]\n",
    "confinement = confinement[1:] #sets first row as header\n",
    "\n",
    "with open(filepath+csvfilenames[1]) as datafile:\n",
    "    filecontents = csv.reader(datafile, delimiter = \",\")\n",
    "    data = list(filecontents)\n",
    "\n",
    "members = pd.DataFrame(data)\n",
    "members.columns = members.iloc[0]\n",
    "members = members[1:]\n",
    "members = members.set_index(['PATID']) #makes PATID the row index instead of integers, not sure it's worth it.\n",
    "\n",
    "with open(filepath+csvfilenames[2]) as datafile:\n",
    "    filecontents = csv.reader(datafile, delimiter = \",\")\n",
    "    data = list(filecontents)\n",
    "\n",
    "labdata = pd.DataFrame(data)\n",
    "labdata.columns = labdata.iloc[0]\n",
    "labdata = labdata[1:]\n",
    "\n",
    "with open(filepath+csvfilenames[3]) as datafile:\n",
    "    filecontents = csv.reader(datafile, delimiter = \",\")\n",
    "    data = list(filecontents)\n",
    "\n",
    "allmedical = pd.DataFrame(data)\n",
    "allmedical.columns = allmedical.iloc[0]\n",
    "allmedical = allmedical[1:]\n",
    "\n",
    "with open(filepath+csvfilenames[4]) as datafile:\n",
    "    filecontents = csv.reader(datafile, delimiter = \",\")\n",
    "    data = list(filecontents)\n",
    "\n",
    "rxdata = pd.DataFrame(data)\n",
    "rxdata.columns = rxdata.iloc[0]\n",
    "rxdata = rxdata[1:]"
   ]
  },
  {
   "cell_type": "code",
   "execution_count": null,
   "metadata": {},
   "outputs": [],
   "source": [
    "allmedical['STD_COST']=allmedical['STD_COST'].apply(pd.to_numeric) #change entries to numbers\n",
    "rxdata.loc[rxdata['STD_COST']=='None', 'STD_COST']=0 #change all nones to zeros\n",
    "rxdata['STD_COST']=rxdata['STD_COST'].apply(pd.to_numeric) #change all entries to numbers"
   ]
  },
  {
   "cell_type": "code",
   "execution_count": null,
   "metadata": {},
   "outputs": [],
   "source": [
    "#completely unnecessary for faster version of code below\n",
    "members = members.sort_values(['PATID'])\n",
    "rxdata = rxdata.sort_values(['PATID'])\n",
    "allmedical = allmedical.sort_values(['PATID'])"
   ]
  },
  {
   "cell_type": "code",
   "execution_count": null,
   "metadata": {},
   "outputs": [],
   "source": [
    "#slower version - don't run\n",
    "tick = time.clock()\n",
    "members['totalcost']=0\n",
    "print len(members)\n",
    "print len(rxdata)\n",
    "k=0\n",
    "j=0\n",
    "while k < len(members):\n",
    "    while j < len(rxdata) and rxdata.iloc[j]['PATID']==members.iloc[k].name:\n",
    "        members.iloc[k,3] += rxdata.iloc[j]['STD_COST']\n",
    "        j+=1\n",
    "    k+=1\n",
    "    if k % 1000 == 0:\n",
    "        print k\n",
    "        tock = time.clock()\n",
    "        print tock-tick\n",
    "    \n",
    "print j, len(rxdata), k, len(members)"
   ]
  },
  {
   "cell_type": "code",
   "execution_count": null,
   "metadata": {},
   "outputs": [],
   "source": [
    "#faster version\n",
    "tick = time.clock()\n",
    "members['totalcost']=0\n",
    "print len(members)\n",
    "print len(rxdata)\n",
    "k=0\n",
    "while k < len(rxdata):\n",
    "    members.loc[rxdata.iloc[k]['PATID'],'totalcost']+=rxdata.iloc[k]['STD_COST']\n",
    "    k += 1\n",
    "    if k % 60000 == 0:\n",
    "        print k\n",
    "        tock=time.clock()\n",
    "        print tock-tick"
   ]
  },
  {
   "cell_type": "code",
   "execution_count": null,
   "metadata": {},
   "outputs": [],
   "source": [
    "ser = allmedical['STD_COST']\n",
    "ser.plot.density()\n",
    "plt.xlim([-5000,5000])\n",
    "plt.show()"
   ]
  },
  {
   "cell_type": "code",
   "execution_count": null,
   "metadata": {},
   "outputs": [],
   "source": [
    "allmedical.sort_values([\"STD_COST\"], ascending = [1])"
   ]
  }
 ],
 "metadata": {
  "kernelspec": {
   "display_name": "Python 2",
   "language": "python",
   "name": "python2"
  },
  "language_info": {
   "codemirror_mode": {
    "name": "ipython",
    "version": 2
   },
   "file_extension": ".py",
   "mimetype": "text/x-python",
   "name": "python",
   "nbconvert_exporter": "python",
   "pygments_lexer": "ipython2",
   "version": "2.7.13"
  }
 },
 "nbformat": 4,
 "nbformat_minor": 2
}
