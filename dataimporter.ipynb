{
 "cells": [
  {
   "cell_type": "code",
   "execution_count": null,
   "metadata": {},
   "outputs": [],
   "source": [
    "import csv\n",
    "import numpy as np\n",
    "import pandas as pd\n",
    "import matplotlib.pyplot as plt\n",
    "import seaborn as sns\n",
    "import os.path\n",
    "import time\n",
    "import functions"
   ]
  },
  {
   "cell_type": "code",
   "execution_count": null,
   "metadata": {},
   "outputs": [],
   "source": [
    "filepath ='data/'\n",
    "csvfilenames = ['confinement_training.csv', 'member_information.csv', 'labresults_training.csv', 'medical_training.csv', 'rx_training.csv']\n",
    "txtfilenames = ['lu_diagnosis.txt', 'lu_procedure-fake.txt', 'lu_ndc.txt' ]\n",
    "\n",
    "\"\"\"with open(filepath+csvfilenames[0]) as datafile:\n",
    "    filecontents = csv.reader(datafile, delimiter = \",\")\n",
    "    data = list(filecontents)\n",
    "\n",
    "confinement = pd.DataFrame(data)\n",
    "confinement.columns = confinement.iloc[0]\n",
    "confinement = confinement[1:] #sets first row as header\"\"\"\n",
    "\n",
    "with open(filepath+csvfilenames[1]) as datafile:\n",
    "    filecontents = csv.reader(datafile, delimiter = \",\")\n",
    "    data = list(filecontents)\n",
    "\n",
    "members = pd.DataFrame(data)\n",
    "members.columns = members.iloc[0]\n",
    "members = members[1:]\n",
    "members = members.set_index(['PATID']) #makes PATID the row index instead of integers, not sure it's worth it.\n",
    "\n",
    "with open(filepath+csvfilenames[2]) as datafile:\n",
    "    filecontents = csv.reader(datafile, delimiter = \",\")\n",
    "    data = list(filecontents)\n",
    "\n",
    "labdata = pd.DataFrame(data)\n",
    "labdata.columns = labdata.iloc[0]\n",
    "labdata = labdata[1:]\n",
    "\n",
    "with open(filepath+csvfilenames[3]) as datafile:\n",
    "    filecontents = csv.reader(datafile, delimiter = \",\")\n",
    "    data = list(filecontents)\n",
    "\n",
    "allmedical = pd.DataFrame(data)\n",
    "allmedical.columns = allmedical.iloc[0]\n",
    "allmedical = allmedical[1:]\n",
    "\n",
    "with open(filepath+csvfilenames[4]) as datafile:\n",
    "    filecontents = csv.reader(datafile, delimiter = \",\")\n",
    "    data = list(filecontents)\n",
    "\n",
    "rxdata = pd.DataFrame(data)\n",
    "rxdata.columns = rxdata.iloc[0]\n",
    "rxdata = rxdata[1:]"
   ]
  },
  {
   "cell_type": "code",
   "execution_count": null,
   "metadata": {},
   "outputs": [],
   "source": [
    "allmedical['STD_COST']=allmedical['STD_COST'].apply(pd.to_numeric) #change entries to numbers\n",
    "rxdata.loc[rxdata['STD_COST']=='None', 'STD_COST']=0 #change all nones to zeros\n",
    "rxdata['STD_COST']=rxdata['STD_COST'].apply(pd.to_numeric) #change all entries to numbers\n",
    "members['year_of_birth']=members['year_of_birth'].apply(pd.to_numeric)\n",
    "rxdata['DAYS_FROM_DIAG'] = rxdata['DAYS_FROM_DIAG'].apply(pd.to_numeric)\n",
    "medical_wanted['DAYS_FROM_DIAG'] = medical_wanted['DAYS_FROM_DIAG'].apply(pd.to_numeric)"
   ]
  },
  {
   "cell_type": "code",
   "execution_count": null,
   "metadata": {},
   "outputs": [],
   "source": [
    "allmedical['wanted']=True #this is unecessary?\n",
    "\n",
    "medical_wanted = allmedical[('630' >=  allmedical.DIAG1) | (allmedical.DIAG1 >= '67999')]\n",
    "medical_wanted = medical_wanted[('630' >=  medical_wanted.DIAG2) | (medical_wanted.DIAG2 >= '67999')]\n",
    "\n",
    "medical_wanted = medical_wanted[('800' >=  medical_wanted.DIAG1) | (medical_wanted.DIAG1 >= '95999')]\n",
    "medical_wanted = medical_wanted[('800' >=  medical_wanted.DIAG2) | (medical_wanted.DIAG2 >= '95999')]\n",
    "\n",
    "medical_wanted = medical_wanted[medical_wanted['DIAG1'].str.startswith('E') == False]\n",
    "medical_wanted = medical_wanted[medical_wanted['DIAG2'].str.startswith('E') == False]\n",
    "\n",
    "medical_wanted = medical_wanted[(medical_wanted['DIAG1'].str.startswith('V3') == False) & (medical_wanted['DIAG1'].str.startswith('V22') == False) & (medical_wanted['DIAG1'].str.startswith('V23') == False) & (medical_wanted['DIAG1'].str.startswith('V24') == False) & (medical_wanted['DIAG1'].str.startswith('V28') == False) & (medical_wanted['DIAG1'].str.startswith('V91') == False)]\n",
    "medical_wanted = medical_wanted[(medical_wanted['DIAG2'].str.startswith('V3') == False) & (medical_wanted['DIAG2'].str.startswith('V22') == False) & (medical_wanted['DIAG2'].str.startswith('V23') == False) & (medical_wanted['DIAG2'].str.startswith('V24') == False) & (medical_wanted['DIAG2'].str.startswith('V28') == False) & (medical_wanted['DIAG2'].str.startswith('V91') == False)]\n"
   ]
  },
  {
   "cell_type": "code",
   "execution_count": null,
   "metadata": {},
   "outputs": [],
   "source": [
    "wantedmedical = allmedical[allmedical.wanted]"
   ]
  },
  {
   "cell_type": "code",
   "execution_count": null,
   "metadata": {},
   "outputs": [],
   "source": [
    "members['totalcost'] = 0.0 #add rxdata to member's total cost\n",
    "members['rxcost'] = 0.0\n",
    "members['medicalcost'] = 0.0\n",
    "\n",
    "dummy = rxdata.groupby('PATID')['STD_COST'].sum()\n",
    "#print dummy\n",
    "\n",
    "for k in range(len(dummy)):\n",
    "    members.at[dummy.index[k],'totalcost'] += dummy.iat[k]\n",
    "    members.at[dummy.index[k], 'rxcost'] = dummy.iat[k]\n",
    "    #print type(members.at[dummy.index[k],'totalcost'])\n",
    "    \n",
    "dummy = medical_wanted.groupby('PATID')['STD_COST'].sum()\n",
    "#print dummy.head()\n",
    "\n",
    "for k in range(len(dummy)):\n",
    "    members.at[dummy.index[k], 'totalcost'] += dummy.iat[k]\n",
    "    members.at[dummy.index[k], 'medicalcost'] = dummy.iat[k]\n",
    "    \n",
    "#print members.head()\n"
   ]
  },
  {
   "cell_type": "code",
   "execution_count": null,
   "metadata": {},
   "outputs": [],
   "source": [
    "#all potentially completely useless\n",
    "dummy = rxdata.groupby('PATID')['DAYS_FROM_DIAG'].min()\n",
    "for k in range(len(dummy)):\n",
    "    members.at[dummy.index[k], 'minrxday'] = dummy.iat[k]\n",
    "dummy = rxdata.groupby('PATID')['DAYS_FROM_DIAG'].max()\n",
    "for k in range(len(dummy)):\n",
    "    members.at[dummy.index[k], 'maxrxday'] = dummy.iat[k]\n",
    "dummy = medical_wanted.groupby('PATID')['DAYS_FROM_DIAG'].min()\n",
    "for k in range(len(dummy)):\n",
    "    members.at[dummy.index[k], 'minmedicalday'] = dummy.iat[k]\n",
    "dummy = medical_wanted.groupby('PATID')['DAYS_FROM_DIAG'].max()\n",
    "for k in range(len(dummy)):\n",
    "    members.at[dummy.index[k], 'maxmedicalday'] = dummy.iat[k]"
   ]
  },
  {
   "cell_type": "code",
   "execution_count": null,
   "metadata": {},
   "outputs": [],
   "source": [
    "#The next several blocks add counters to the member dataframe for the number of visits to different types of facilities"
   ]
  },
  {
   "cell_type": "code",
   "execution_count": null,
   "metadata": {},
   "outputs": [],
   "source": [
    "#emergency=['23','24', '21', '41', '20', '42']\n",
    "medical_wanted_emergency = medical_wanted[(medical_wanted['POS'] =='23') | \n",
    "                                          (medical_wanted['POS'] =='24') | \n",
    "                                          (medical_wanted['POS'] =='21') |\n",
    "                                          (medical_wanted['POS'] =='41') |\n",
    "                                          (medical_wanted['POS'] =='20') |\n",
    "                                          (medical_wanted['POS'] =='42') ]\n",
    "members['emervisits']=0\n",
    "patids = list(members.index)\n",
    "tick = time.clock()\n",
    "patidgroups = medical_wanted_emergency.groupby('PATID')\n",
    "for k in patids:\n",
    "    try:\n",
    "        members.loc[k, 'emervisits'] = len(patidgroups.get_group(k).groupby('DAYS_FROM_DIAG'))\n",
    "    except KeyError:\n",
    "        pass\n",
    "tock = time.clock()\n",
    "print tock-tick"
   ]
  },
  {
   "cell_type": "code",
   "execution_count": null,
   "metadata": {},
   "outputs": [],
   "source": [
    "#psychiatric=['53', '55', '51', '52', '57'] # 51 is inpatient faciliity, 55 is res. sub. abuse\n",
    "medical_wanted_psych = medical_wanted[(medical_wanted['POS'] =='53') | \n",
    "                                          #(medical_wanted['POS'] =='55') |\n",
    "                                          (medical_wanted['POS'] =='52') |\n",
    "                                          (medical_wanted['POS'] =='57')]\n",
    "members['psychvisits']=0\n",
    "patids = list(members.index)\n",
    "tick = time.clock()\n",
    "patidgroups = medical_wanted_psych.groupby('PATID')\n",
    "for k in patids:\n",
    "    try:\n",
    "        members.loc[k, 'psychvisits'] = len(patidgroups.get_group(k).groupby('DAYS_FROM_DIAG'))\n",
    "    except KeyError:\n",
    "        pass\n",
    "tock = time.clock()\n",
    "print tock-tick"
   ]
  },
  {
   "cell_type": "code",
   "execution_count": null,
   "metadata": {},
   "outputs": [],
   "source": [
    "#regular=['11', '01', '81','22', '60', '49', '71', '62', '17', '50', '61', '03']\n",
    "medical_wanted_office = medical_wanted[(medical_wanted['POS'] =='11') | \n",
    "                                          (medical_wanted['POS'] =='01') | \n",
    "                                          (medical_wanted['POS'] =='81') |\n",
    "                                          (medical_wanted['POS'] =='22') |\n",
    "                                          (medical_wanted['POS'] =='60') |\n",
    "                                      (medical_wanted['POS'] =='49') | \n",
    "                                          (medical_wanted['POS'] =='71') |\n",
    "                                          (medical_wanted['POS'] =='62') |\n",
    "                                          (medical_wanted['POS'] =='17') |\n",
    "                                      (medical_wanted['POS'] =='50') | \n",
    "                                          (medical_wanted['POS'] =='61') |\n",
    "                                          (medical_wanted['POS'] =='03') ]\n",
    "members['officevisits']=0\n",
    "patids = list(members.index)\n",
    "tick = time.clock()\n",
    "patidgroups = medical_wanted_office.groupby('PATID')\n",
    "for k in patids:\n",
    "    try:\n",
    "        members.loc[k, 'officevisits'] = len(patidgroups.get_group(k).groupby('DAYS_FROM_DIAG'))\n",
    "    except KeyError:\n",
    "        pass\n",
    "tock = time.clock()\n",
    "print tock-tick"
   ]
  },
  {
   "cell_type": "code",
   "execution_count": null,
   "metadata": {},
   "outputs": [],
   "source": [
    "#elderly=['13', '31', '32', '33']\n",
    "medical_wanted_elderly = medical_wanted[(medical_wanted['POS'] =='13') | \n",
    "                                          (medical_wanted['POS'] =='31') | \n",
    "                                          (medical_wanted['POS'] =='32') |\n",
    "                                          (medical_wanted['POS'] =='33') ]\n",
    "members['elderlyvisits']=0\n",
    "patids = list(members.index)\n",
    "tick = time.clock()\n",
    "patidgroups = medical_wanted_elderly.groupby('PATID')\n",
    "for k in patids:\n",
    "    try:\n",
    "        members.loc[k, 'elderlyvisits'] = len(patidgroups.get_group(k).groupby('DAYS_FROM_DIAG'))\n",
    "    except KeyError:\n",
    "        pass\n",
    "tock = time.clock()\n",
    "print tock-tick"
   ]
  },
  {
   "cell_type": "code",
   "execution_count": null,
   "metadata": {},
   "outputs": [],
   "source": [
    "#home=['12', '14', '15']\n",
    "medical_wanted_home = medical_wanted[(medical_wanted['POS'] =='12') | \n",
    "                                          (medical_wanted['POS'] =='14') | \n",
    "                                          (medical_wanted['POS'] =='15')]\n",
    "members['homevisits']=0\n",
    "patids = list(members.index)\n",
    "tick = time.clock()\n",
    "patidgroups = medical_wanted_home.groupby('PATID')\n",
    "for k in patids:\n",
    "    try:\n",
    "        members.loc[k, 'homevisits'] = len(patidgroups.get_group(k).groupby('DAYS_FROM_DIAG'))\n",
    "    except KeyError:\n",
    "        pass\n",
    "tock = time.clock()\n",
    "print tock-tick"
   ]
  },
  {
   "cell_type": "code",
   "execution_count": null,
   "metadata": {},
   "outputs": [],
   "source": [
    "#dialysis=['65']\n",
    "medical_wanted_dialysis = medical_wanted[(medical_wanted['POS'] =='65')]\n",
    "members['dialysisvisits']=0\n",
    "patids = list(members.index)\n",
    "tick = time.clock()\n",
    "patidgroups = medical_wanted_dialysis.groupby('PATID')\n",
    "for k in patids:\n",
    "    try:\n",
    "        members.loc[k, 'dialysisvisits'] = len(patidgroups.get_group(k).groupby('DAYS_FROM_DIAG'))\n",
    "    except KeyError:\n",
    "        pass\n",
    "tock = time.clock()\n",
    "print tock-tick"
   ]
  },
  {
   "cell_type": "code",
   "execution_count": null,
   "metadata": {},
   "outputs": [],
   "source": [
    "#hospice=['34']\n",
    "medical_wanted_hospice = medical_wanted[(medical_wanted['POS'] =='34')]\n",
    "members['hospicevisits']=0\n",
    "patids = list(members.index)\n",
    "tick = time.clock()\n",
    "patidgroups = medical_wanted_hospice.groupby('PATID')\n",
    "for k in patids:\n",
    "    try:\n",
    "        members.loc[k, 'hospicevisits'] = len(patidgroups.get_group(k).groupby('DAYS_FROM_DIAG'))\n",
    "    except KeyError:\n",
    "        pass\n",
    "tock = time.clock()\n",
    "print tock-tick"
   ]
  },
  {
   "cell_type": "code",
   "execution_count": null,
   "metadata": {},
   "outputs": [],
   "source": [
    "#unknown=['99', 'None']\n",
    "medical_wanted_unknown = medical_wanted[(medical_wanted['POS'] =='99')|\n",
    "                                        (medical_wanted['POS'] == 'None')]\n",
    "members['unknownvisits']=0\n",
    "patids = list(members.index)\n",
    "tick = time.clock()\n",
    "patidgroups = medical_wanted_unknown.groupby('PATID')\n",
    "for k in patids:\n",
    "    try:\n",
    "        members.loc[k, 'unknownvisits'] = len(patidgroups.get_group(k).groupby('DAYS_FROM_DIAG'))\n",
    "    except KeyError:\n",
    "        pass\n",
    "tock = time.clock()\n",
    "print tock-tick"
   ]
  },
  {
   "cell_type": "code",
   "execution_count": null,
   "metadata": {},
   "outputs": [],
   "source": [
    "#sample scatter plot because why not\n",
    "colors = {'F': 'red', 'M': 'blue', 'U': 'green'}\n",
    "members.plot.scatter(x ='emervisits', y = 'totalcost', c = members['gender'].apply(lambda x: colors[x]))\n",
    "#plt.ylim(0, 2000000) #not the actual upper limit\n",
    "plt.show()"
   ]
  },
  {
   "cell_type": "code",
   "execution_count": null,
   "metadata": {},
   "outputs": [],
   "source": [
    "location_series = medical_wanted.groupby('POS')['STD_COST'].mean()\n",
    "\n",
    "location_series.plot.bar()\n",
    "plt.ylim([0,2000])\n",
    "plt.show()"
   ]
  },
  {
   "cell_type": "code",
   "execution_count": null,
   "metadata": {},
   "outputs": [],
   "source": [
    "# Add new column for region (should find a way to avoid this with groupby, but can't currently)\n",
    "members['region'] = members.apply(lambda row: functions.US_region(row), axis=1)\n",
    "\n",
    "region_series = members.groupby('region')['totalcost'].mean()\n",
    "\n",
    "region_series.plot.bar()\n",
    "plt.show()"
   ]
  },
  {
   "cell_type": "code",
   "execution_count": null,
   "metadata": {},
   "outputs": [],
   "source": [
    "reload(functions)"
   ]
  }
 ],
 "metadata": {
  "kernelspec": {
   "display_name": "Python 2",
   "language": "python",
   "name": "python2"
  },
  "language_info": {
   "codemirror_mode": {
    "name": "ipython",
    "version": 2
   },
   "file_extension": ".py",
   "mimetype": "text/x-python",
   "name": "python",
   "nbconvert_exporter": "python",
   "pygments_lexer": "ipython2",
   "version": "2.7.13"
  }
 },
 "nbformat": 4,
 "nbformat_minor": 2
}
