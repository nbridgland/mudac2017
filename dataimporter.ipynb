{
 "cells": [
  {
   "cell_type": "code",
   "execution_count": null,
   "metadata": {},
   "outputs": [],
   "source": [
    "import csv\n",
    "import numpy as np\n",
    "import pandas as pd\n",
    "import matplotlib.pyplot as plt\n",
    "import seaborn as sns\n",
    "import os.path"
   ]
  },
  {
   "cell_type": "code",
   "execution_count": null,
   "metadata": {},
   "outputs": [],
   "source": [
    "filepath ='data/'\n",
    "csvfilenames = ['confinement_training.csv', 'member_information.csv', 'labresults_training.csv', 'medical_training.csv', 'rx_training.csv']\n",
    "txtfilenames = ['lu_diagnosis.txt', 'lu_procedure-fake.txt', 'lu_ndc.txt' ]\n",
    "\n",
    "with open(filepath+csvfilenames[0]) as datafile:\n",
    "    filecontents = csv.reader(datafile, delimiter = \",\")\n",
    "    data = list(filecontents)\n",
    "\n",
    "confinement = pd.DataFrame(data)\n",
    "confinement.columns = confinement.iloc[0]\n",
    "confinement = confinement[1:] #sets first row as header\n",
    "\n",
    "with open(filepath+csvfilenames[1]) as datafile:\n",
    "    filecontents = csv.reader(datafile, delimiter = \",\")\n",
    "    data = list(filecontents)\n",
    "\n",
    "members = pd.DataFrame(data)\n",
    "members.columns = members.iloc[0]\n",
    "members = members[1:]\n",
    "#members = members.set_index(['PATID']) #makes PATID the row index instead of integers\n",
    "\n",
    "with open(filepath+csvfilenames[2]) as datafile:\n",
    "    filecontents = csv.reader(datafile, delimiter = \",\")\n",
    "    data = list(filecontents)\n",
    "\n",
    "labdata = pd.DataFrame(data)\n",
    "labdata.columns = labdata.iloc[0]\n",
    "labdata = labdata[1:]\n",
    "\n",
    "with open(filepath+csvfilenames[3]) as datafile:\n",
    "    filecontents = csv.reader(datafile, delimiter = \",\")\n",
    "    data = list(filecontents)\n",
    "\n",
    "allmedical = pd.DataFrame(data)\n",
    "allmedical.columns = allmedical.iloc[0]\n",
    "allmedical = allmedical[1:]\n",
    "\n",
    "with open(filepath+csvfilenames[4]) as datafile:\n",
    "    filecontents = csv.reader(datafile, delimiter = \",\")\n",
    "    data = list(filecontents)\n",
    "\n",
    "rxdata = pd.DataFrame(data)\n",
    "rxdata.columns = rxdata.iloc[0]\n",
    "rxdata = rxdata[1:]"
   ]
  },
  {
   "cell_type": "code",
   "execution_count": null,
   "metadata": {},
   "outputs": [],
   "source": [
    "allmedical['STD_COST']=allmedical['STD_COST'].apply(pd.to_numeric) #change entries to numbers\n",
    "rxdata.loc[rxdata['STD_COST']=='None', 'STD_COST']=0 #change all nones to zeros\n",
    "rxdata['STD_COST']=rxdata['STD_COST'].apply(pd.to_numeric) #change all entries to numbers\n",
    "members['totalcost']=0 #add a column to members dataframe to store cost of member"
   ]
  },
  {
   "cell_type": "code",
   "execution_count": null,
   "metadata": {},
   "outputs": [],
   "source": [
    "#k=0\n",
    "#while k < len(rxdata):\n",
    "#    members[rxdata.iloc[k]['PATID']]['totalcost']+=rxdata.iloc[k][STD_COST]\n",
    "#    k+=1\n",
    "#members\n",
    "\n",
    "#None of this block works, but rxdata.iloc[k]['PATID'] does at least return the PATID corresponding to the row, which is helpful?"
   ]
  },
  {
   "cell_type": "code",
   "execution_count": null,
   "metadata": {},
   "outputs": [],
   "source": [
    "ser = allmedical['STD_COST']\n",
    "ser.plot.density()\n",
    "plt.xlim([-5000,5000])\n",
    "plt.show()"
   ]
  },
  {
   "cell_type": "code",
   "execution_count": null,
   "metadata": {},
   "outputs": [],
   "source": [
    "allmedical.sort_values([\"STD_COST\"], ascending = [1])"
   ]
  }
 ],
 "metadata": {
  "kernelspec": {
   "display_name": "Python 2",
   "language": "python",
   "name": "python2"
  },
  "language_info": {
   "codemirror_mode": {
    "name": "ipython",
    "version": 2
   },
   "file_extension": ".py",
   "mimetype": "text/x-python",
   "name": "python",
   "nbconvert_exporter": "python",
   "pygments_lexer": "ipython2",
   "version": "2.7.13"
  }
 },
 "nbformat": 4,
 "nbformat_minor": 2
}
