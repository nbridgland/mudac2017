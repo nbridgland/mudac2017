{
 "cells": [
  {
   "cell_type": "code",
   "execution_count": null,
   "metadata": {},
   "outputs": [],
   "source": [
    "import csv\n",
    "import numpy as np\n",
    "import pandas as pd\n",
    "import matplotlib.pyplot as plt\n",
    "import seaborn as sns\n",
    "import os.path\n",
    "import time\n",
    "import functions"
   ]
  },
  {
   "cell_type": "code",
   "execution_count": null,
   "metadata": {},
   "outputs": [],
   "source": [
    "filepath ='data/'\n",
    "csvfilenames = ['confinement_training.csv', 'member_information.csv', 'labresults_training.csv', 'medical_training.csv', 'rx_training.csv']\n",
    "txtfilenames = ['lu_diagnosis.txt', 'lu_procedure-fake.txt', 'lu_ndc.txt' ]\n",
    "\n",
    "with open(filepath+csvfilenames[0]) as datafile:\n",
    "    filecontents = csv.reader(datafile, delimiter = \",\")\n",
    "    data = list(filecontents)\n",
    "\n",
    "confinement = pd.DataFrame(data)\n",
    "confinement.columns = confinement.iloc[0]\n",
    "confinement = confinement[1:] #sets first row as header\n",
    "\n",
    "with open(filepath+csvfilenames[1]) as datafile:\n",
    "    filecontents = csv.reader(datafile, delimiter = \",\")\n",
    "    data = list(filecontents)\n",
    "\n",
    "members = pd.DataFrame(data)\n",
    "members.columns = members.iloc[0]\n",
    "members = members[1:]\n",
    "members = members.set_index(['PATID']) #makes PATID the row index instead of integers, not sure it's worth it.\n",
    "\n",
    "with open(filepath+csvfilenames[2]) as datafile:\n",
    "    filecontents = csv.reader(datafile, delimiter = \",\")\n",
    "    data = list(filecontents)\n",
    "\n",
    "labdata = pd.DataFrame(data)\n",
    "labdata.columns = labdata.iloc[0]\n",
    "labdata = labdata[1:]\n",
    "\n",
    "with open(filepath+csvfilenames[3]) as datafile:\n",
    "    filecontents = csv.reader(datafile, delimiter = \",\")\n",
    "    data = list(filecontents)\n",
    "\n",
    "allmedical = pd.DataFrame(data)\n",
    "allmedical.columns = allmedical.iloc[0]\n",
    "allmedical = allmedical[1:]\n",
    "\n",
    "with open(filepath+csvfilenames[4]) as datafile:\n",
    "    filecontents = csv.reader(datafile, delimiter = \",\")\n",
    "    data = list(filecontents)\n",
    "\n",
    "rxdata = pd.DataFrame(data)\n",
    "rxdata.columns = rxdata.iloc[0]\n",
    "rxdata = rxdata[1:]"
   ]
  },
  {
   "cell_type": "code",
   "execution_count": null,
   "metadata": {},
   "outputs": [],
   "source": [
    "allmedical['STD_COST']=allmedical['STD_COST'].apply(pd.to_numeric) #change entries to numbers\n",
    "rxdata.loc[rxdata['STD_COST']=='None', 'STD_COST']=0 #change all nones to zeros\n",
    "rxdata['STD_COST']=rxdata['STD_COST'].apply(pd.to_numeric) #change all entries to numbers"
   ]
  },
  {
   "cell_type": "code",
   "execution_count": null,
   "metadata": {},
   "outputs": [],
   "source": [
    "allmedical['wanted']=True\n",
    "\n",
    "medical_wanted = allmedical[('630' >=  allmedical.DIAG1) | (allmedical.DIAG1 >= '67999')]\n",
    "medical_wanted = medical_wanted[('630' >=  medical_wanted.DIAG2) | (medical_wanted.DIAG2 >= '67999')]\n",
    "\n",
    "medical_wanted = medical_wanted[('800' >=  medical_wanted.DIAG1) | (medical_wanted.DIAG1 >= '95999')]\n",
    "medical_wanted = medical_wanted[('800' >=  medical_wanted.DIAG2) | (medical_wanted.DIAG2 >= '95999')]\n",
    "\n",
    "medical_wanted = medical_wanted[medical_wanted['DIAG1'].str.startswith('E') == False]\n",
    "medical_wanted = medical_wanted[medical_wanted['DIAG2'].str.startswith('E') == False]\n",
    "\n",
    "medical_wanted = medical_wanted[(medical_wanted['DIAG1'].str.startswith('V3') == False) & (medical_wanted['DIAG1'].str.startswith('V22') == False) & (medical_wanted['DIAG1'].str.startswith('V23') == False) & (medical_wanted['DIAG1'].str.startswith('V24') == False) & (medical_wanted['DIAG1'].str.startswith('V28') == False) & (medical_wanted['DIAG1'].str.startswith('V91') == False)]\n",
    "medical_wanted = medical_wanted[(medical_wanted['DIAG2'].str.startswith('V3') == False) & (medical_wanted['DIAG2'].str.startswith('V22') == False) & (medical_wanted['DIAG2'].str.startswith('V23') == False) & (medical_wanted['DIAG2'].str.startswith('V24') == False) & (medical_wanted['DIAG2'].str.startswith('V28') == False) & (medical_wanted['DIAG2'].str.startswith('V91') == False)]\n"
   ]
  },
  {
   "cell_type": "code",
   "execution_count": null,
   "metadata": {},
   "outputs": [],
   "source": [
    "#This has been improved upon above. Run that instead\n",
    "\n",
    "tick = time.clock()\n",
    "k=0\n",
    "while k < len(allmedical):\n",
    "    if not (functions.wanted(allmedical.iat[k,9]) and functions.wanted(allmedical.iat[k,10])):\n",
    "        allmedical.iat[k, 20] = False\n",
    "    k += 1\n",
    "    if k % 100000 == 0:\n",
    "        print k\n",
    "        tock = time.clock()\n",
    "        print tock-tick"
   ]
  },
  {
   "cell_type": "code",
   "execution_count": null,
   "metadata": {},
   "outputs": [],
   "source": [
    "wantedmedical = allmedical[allmedical.wanted]"
   ]
  },
  {
   "cell_type": "code",
   "execution_count": null,
   "metadata": {},
   "outputs": [],
   "source": [
    "#This has been improved upon below. Do not run this one.\n",
    "\n",
    "tick = time.clock()\n",
    "members['totalcost']=0\n",
    "#add rxdata to member's total cost\n",
    "k=0\n",
    "while k < len(rxdata):\n",
    "    members.at[rxdata.iloc[k]['PATID'],'totalcost']+=rxdata.iloc[k]['STD_COST']\n",
    "    k += 1\n",
    "    if k % 100000 == 0:\n",
    "        print k\n",
    "        tock=time.clock()\n",
    "        print tock-tick\n",
    "print 'Done with rxdata! Moving on to medical data'\n",
    "tick=time.clock()\n",
    "k=0\n",
    "while k < len(wantedmedical):\n",
    "    members.at[wantedmedical.iloc[k]['PATID'],'totalcost']+=wantedmedical.iloc[k]['STD_COST']\n",
    "    k += 1\n",
    "    if k % 100000 == 0:\n",
    "        print k\n",
    "        tock=time.clock()\n",
    "        print tock-tick\n",
    "print \"yaaaaaaaay\""
   ]
  },
  {
   "cell_type": "code",
   "execution_count": null,
   "metadata": {},
   "outputs": [],
   "source": [
    "members['totalcost'] = 0.0 #add rxdata to member's total cost\n",
    "members['rxcost'] = 0.0\n",
    "members['medicalcost'] = 0.0\n",
    "\n",
    "dummy = rxdata.groupby('PATID')['STD_COST'].sum()\n",
    "#print dummy\n",
    "\n",
    "for k in range(len(dummy)):\n",
    "    members.at[dummy.index[k],'totalcost'] += dummy.iat[k]\n",
    "    members.at[dummy.index[k], 'rxcost'] = dummy.iat[k]\n",
    "    #print type(members.at[dummy.index[k],'totalcost'])\n",
    "    \n",
    "dummy = medical_wanted.groupby('PATID')['STD_COST'].sum()\n",
    "#print dummy.head()\n",
    "\n",
    "for k in range(len(dummy)):\n",
    "    members.at[dummy.index[k], 'totalcost'] += dummy.iat[k]\n",
    "    members.at[dummy.index[k], 'medicalcost'] = dummy.iat[k]\n",
    "    \n",
    "#print members.head()\n"
   ]
  },
  {
   "cell_type": "code",
   "execution_count": null,
   "metadata": {},
   "outputs": [],
   "source": [
    "ser = allmedical['STD_COST']\n",
    "ser.plot.density()\n",
    "plt.xlim([-5000,5000])\n",
    "plt.show()"
   ]
  },
  {
   "cell_type": "code",
   "execution_count": null,
   "metadata": {},
   "outputs": [],
   "source": [
    "allmedical.sort_values([\"STD_COST\"], ascending = [1])"
   ]
  },
  {
   "cell_type": "code",
   "execution_count": null,
   "metadata": {},
   "outputs": [],
   "source": [
    "location_series = medical_wanted.groupby('POS')['STD_COST'].mean()\n",
    "\n",
    "location_series.plot.bar()\n",
    "plt.ylim([0,2000])\n",
    "plt.show()"
   ]
  },
  {
   "cell_type": "code",
   "execution_count": null,
   "metadata": {},
   "outputs": [],
   "source": [
    "# Add new column for region (should find a way to avoid this with groupby, but can't currently)\n",
    "members['region'] = members.apply(lambda row: functions.US_region(row), axis=1)\n",
    "\n",
    "region_series = members.groupby('region')['totalcost'].mean()\n",
    "\n",
    "region_series.plot.bar()\n",
    "plt.show()"
   ]
  },
  {
   "cell_type": "code",
   "execution_count": null,
   "metadata": {},
   "outputs": [],
   "source": [
    "reload(functions)"
   ]
  }
 ],
 "metadata": {
  "kernelspec": {
   "display_name": "Python 2",
   "language": "python",
   "name": "python2"
  },
  "language_info": {
   "codemirror_mode": {
    "name": "ipython",
    "version": 2
   },
   "file_extension": ".py",
   "mimetype": "text/x-python",
   "name": "python",
   "nbconvert_exporter": "python",
   "pygments_lexer": "ipython2",
   "version": "2.7.13"
  }
 },
 "nbformat": 4,
 "nbformat_minor": 2
}
