{
 "cells": [
  {
   "cell_type": "code",
   "execution_count": null,
   "metadata": {
    "collapsed": true
   },
   "outputs": [],
   "source": [
    "import csv\n",
    "import numpy as np\n",
    "import pandas as pd\n",
    "import matplotlib.pyplot as plt\n",
    "import time\n",
    "import functions"
   ]
  },
  {
   "cell_type": "code",
   "execution_count": null,
   "metadata": {
    "collapsed": true
   },
   "outputs": [],
   "source": [
    "filepath ='data/'\n",
    "csvfilenames = ['confinement_training.csv', \n",
    "                'member_information.csv', \n",
    "                'labresults_training.csv', \n",
    "                'medical_training.csv', \n",
    "                'rx_training.csv',\n",
    "                'medical_target.csv',\n",
    "                'rx_target.csv']\n",
    "\n",
    "with open('members.csv') as datafile:\n",
    "    filecontents = csv.reader(datafile, delimiter = \",\")\n",
    "    data = list(filecontents)\n",
    "\n",
    "members = pd.DataFrame(data)\n",
    "members.columns = members.iloc[0]\n",
    "members = members[1:]\n",
    "members = members.set_index(['PATID']) #makes PATID the row index instead of integers, not sure it's worth it.\n",
    "\n",
    "with open(filepath+csvfilenames[2]) as datafile:\n",
    "    filecontents = csv.reader(datafile, delimiter = \",\")\n",
    "    data = list(filecontents)\n",
    "\n",
    "labdata = pd.DataFrame(data)\n",
    "labdata.columns = labdata.iloc[0]\n",
    "labdata = labdata[1:]\n",
    "\n",
    "with open('trainingmedicalwanted.csv') as datafile:\n",
    "    filecontents = csv.reader(datafile, delimiter = \",\")\n",
    "    data = list(filecontents)\n",
    "\n",
    "medical_wanted = pd.DataFrame(data)\n",
    "medical_wanted.columns = medical_wanted.iloc[0]\n",
    "medical_wanted = medical_wanted[1:]\n",
    "\n",
    "with open(filepath+csvfilenames[4]) as datafile:\n",
    "    filecontents = csv.reader(datafile, delimiter = \",\")\n",
    "    data = list(filecontents)\n",
    "\n",
    "rxdata = pd.DataFrame(data)\n",
    "rxdata.columns = rxdata.iloc[0]\n",
    "rxdata = rxdata[1:]\n",
    "\n",
    "with open('targetmedicalwanted.csv') as datafile:\n",
    "    filecontents = csv.reader(datafile, delimiter = \",\")\n",
    "    data = list(filecontents)\n",
    "\n",
    "medical_wanted_t = pd.DataFrame(data)\n",
    "medical_wanted_t.columns = medical_wanted_t.iloc[0]\n",
    "medical_wanted_t = medical_wanted_t[1:]\n",
    "\n",
    "with open(filepath+csvfilenames[6]) as datafile:\n",
    "    filecontents = csv.reader(datafile, delimiter = \",\")\n",
    "    data = list(filecontents)\n",
    "\n",
    "targetrxdata = pd.DataFrame(data)\n",
    "targetrxdata.columns = targetrxdata.iloc[0]\n",
    "targetrxdata = targetrxdata[1:]"
   ]
  },
  {
   "cell_type": "code",
   "execution_count": null,
   "metadata": {
    "collapsed": true
   },
   "outputs": [],
   "source": [
    "#medical_wanted['STD_COST']=medical_wanted['STD_COST'].apply(pd.to_numeric) #change entries to numbers\n",
    "rxdata.loc[rxdata['STD_COST']=='None', 'STD_COST']=0 #change all nones to zeros\n",
    "rxdata['STD_COST']=rxdata['STD_COST'].apply(pd.to_numeric) #change all entries to numbers\n",
    "members['year_of_birth']=members['year_of_birth'].apply(pd.to_numeric)\n",
    "members['totalcost']=members['totalcost'].apply(pd.to_numeric)\n",
    "members['targetcost']=members['targetcost'].apply(pd.to_numeric)\n",
    "members['rxcost']=members['rxcost'].apply(pd.to_numeric)\n",
    "members['targetrxcost']=members['targetrxcost'].apply(pd.to_numeric)\n",
    "members['medicalcost']=members['medicalcost'].apply(pd.to_numeric)\n",
    "members['targetmedicalcost']=members['targetmedicalcost'].apply(pd.to_numeric)\n",
    "members['hospicevisits']=members['hospicevisits'].apply(pd.to_numeric)\n",
    "members['officevisits']=members['officevisits'].apply(pd.to_numeric)\n",
    "members['psychvisits']=members['psychvisits'].apply(pd.to_numeric)\n",
    "members['emervisits']=members['emervisits'].apply(pd.to_numeric)\n",
    "members['elderlyvisits']=members['elderlyvisits'].apply(pd.to_numeric)\n",
    "members['unknownvisits']=members['unknownvisits'].apply(pd.to_numeric)\n",
    "members['homevisits']=members['homevisits'].apply(pd.to_numeric)\n",
    "members['dialysisvisits']=members['dialysisvisits'].apply(pd.to_numeric)\n",
    "\n",
    "rxdata['DAYS_FROM_DIAG'] = rxdata['DAYS_FROM_DIAG'].apply(pd.to_numeric)\n",
    "#rxdata['QUANTITY']=rxdata['QUANTITY'].apply(pd.to_numeric) #unecessary for now, but potentially useful\n",
    "medical_wanted['DAYS_FROM_DIAG'] = medical_wanted['DAYS_FROM_DIAG'].apply(pd.to_numeric)\n",
    "\n",
    "#medical_wanted_t['STD_COST']=medical_wanted_t['STD_COST'].apply(pd.to_numeric) #change entries to numbers\n",
    "#targetrxdata.loc[targetrxdata['STD_COST']=='None', 'STD_COST']=0 #change all nones to zeros\n",
    "#targetrxdata['STD_COST']=targetrxdata['STD_COST'].apply(pd.to_numeric) #change all entries to numbers\n",
    "#targetrxdata['DAYS_FROM_DIAG'] = targetrxdata['DAYS_FROM_DIAG'].apply(pd.to_numeric)\n",
    "#medical_wanted_t['DAYS_FROM_DIAG'] = medical_wanted_t['DAYS_FROM_DIAG'].apply(pd.to_numeric)"
   ]
  },
  {
   "cell_type": "code",
   "execution_count": null,
   "metadata": {},
   "outputs": [],
   "source": [
    "members['infpardisdiag']=0 #001-139\n",
    "members['neoplasmsdiag']=0 #140-239\n",
    "#members['endocrinediag']=1 #240-279, needs to be split up\n",
    "members['blooddiag']=0 #280-289\n",
    "members['mentaldiag']=0 #290-319\n",
    "members['nervediag']=0 #320-359\n",
    "members['sensediag']=0 #360-389\n",
    "members['circdiag']=0 #390-489\n",
    "members['respdiag']=0 #460-519\n",
    "members['digestdiag']=0 #520-579\n",
    "members['genitdiag']=0 #580-629\n",
    "members['skindiag']=0 #608-709\n",
    "members['muscskeldiag']=0 #710-739\n",
    "members['conganomdiag']=0 #740-759\n",
    "members['illdefdiag']=0 #780-799\n",
    "\n",
    "dummy = medical_wanted.groupby('PATID')\n",
    "patids = list(members.index)\n",
    "for k in patids:\n",
    "    try:\n",
    "        tinydummy = dummy.get_group(k)\n",
    "        if len(tinydummy[(tinydummy['DIAG1']>='001') & (tinydummy['DIAG1']<='13999')]):\n",
    "            members.loc[k,'infpardisdiag']=1\n",
    "        if len(tinydummy[(tinydummy['DIAG1']>='140') & (tinydummy['DIAG1']<='23999')]):\n",
    "            members.loc[k,'neoplasmsdiag']=1\n",
    "        if len(tinydummy[(tinydummy['DIAG1']>='280') & (tinydummy['DIAG1']<='28999')]):\n",
    "            members.loc[k,'blooddiag']=1\n",
    "        if len(tinydummy[(tinydummy['DIAG1']>='290') & (tinydummy['DIAG1']<='31999')]):\n",
    "            members.loc[k,'mentaldiag']=1\n",
    "        if len(tinydummy[(tinydummy['DIAG1']>='320') & (tinydummy['DIAG1']<='35999')]):\n",
    "            members.loc[k,'nervediag']=1\n",
    "        if len(tinydummy[(tinydummy['DIAG1']>='360') & (tinydummy['DIAG1']<='38999')]):\n",
    "            members.loc[k,'sensediag']=1\n",
    "        if len(tinydummy[(tinydummy['DIAG1']>='390') & (tinydummy['DIAG1']<='48999')]):\n",
    "            members.loc[k,'circdiag']=1\n",
    "        if len(tinydummy[(tinydummy['DIAG1']>='460') & (tinydummy['DIAG1']<='51999')]):\n",
    "            members.loc[k,'respdiag']=1\n",
    "        if len(tinydummy[(tinydummy['DIAG1']>='520') & (tinydummy['DIAG1']<='57999')]):\n",
    "            members.loc[k,'digestdiag']=1\n",
    "        if len(tinydummy[(tinydummy['DIAG1']>='580') & (tinydummy['DIAG1']<='62999')]):\n",
    "            members.loc[k,'genitdiag']=1\n",
    "        if len(tinydummy[(tinydummy['DIAG1']>='608') & (tinydummy['DIAG1']<='70999')]):\n",
    "            members.loc[k,'skindiag']=1\n",
    "        if len(tinydummy[(tinydummy['DIAG1']>='710') & (tinydummy['DIAG1']<='73999')]):\n",
    "            members.loc[k,'muscskeldiag']=1\n",
    "        if len(tinydummy[(tinydummy['DIAG1']>='740') & (tinydummy['DIAG1']<='75999')]):\n",
    "            members.loc[k,'conganomdiag']=1\n",
    "        if len(tinydummy[(tinydummy['DIAG1']>='780') & (tinydummy['DIAG1']<='79999')]):\n",
    "            members.loc[k,'illdefdiag']=1  \n",
    "    except KeyError:\n",
    "        pass"
   ]
  },
  {
   "cell_type": "code",
   "execution_count": null,
   "metadata": {},
   "outputs": [],
   "source": [
    "members['allergies'] =0 # 04\n",
    "members['antiinfectives']=0 # 08\n",
    "members['antineoplastic']=0 #10\n",
    "members['autonomic']=0 #12\n",
    "members['bloodfromcoag']=0 #20\n",
    "members['cardiovascular']=0 #24\n",
    "members['centralnervous']=0 #28\n",
    "members['contraceptives']=0 #32\n",
    "members['dental'] = 0 #34\n",
    "members['electrolytic']=0 #40\n",
    "members['enzymes']=0 #44\n",
    "members['coughstuff']=0 #48\n",
    "members['opthamlic']=0 #52\n",
    "members['gastrointestinal']=0 #56\n",
    "members['hormones']=0 #68\n",
    "members['oxytocics']=0 #76\n",
    "members['skinstuff']=0 #84\n",
    "members['vitamins']=0 #88\n",
    "members['asthma/alcohol'] = 0 #92\n",
    "\n",
    "dummy = rxdata.groupby('PATID')\n",
    "patids = list(members.index)\n",
    "for k in patids:\n",
    "    try:\n",
    "        tinydummy = dummy.get_group(k)\n",
    "        if len(tinydummy[(tinydummy['AHFSCLSS'].str.startswith('04'))]):\n",
    "            members.loc[k,'allergies']=1\n",
    "        if len(tinydummy[(tinydummy['AHFSCLSS'].str.startswith('08'))]):\n",
    "            members.loc[k,'antiinfectives']=0\n",
    "        if len(tinydummy[(tinydummy['AHFSCLSS'].str.startswith('10'))]):\n",
    "            members.loc[k,'antineoplastic']=1\n",
    "        if len(tinydummy[(tinydummy['AHFSCLSS'].str.startswith('12'))]):\n",
    "            members.loc[k,'autonomic']=1\n",
    "        if len(tinydummy[(tinydummy['AHFSCLSS'].str.startswith('20'))]):\n",
    "            members.loc[k,'bloodfromcoag']=1\n",
    "        if len(tinydummy[(tinydummy['AHFSCLSS'].str.startswith('24'))]):\n",
    "            members.loc[k,'cardiovascular']=1\n",
    "        if len(tinydummy[(tinydummy['AHFSCLSS'].str.startswith('28'))]):\n",
    "            members.loc[k,'centralnervous']=1\n",
    "        if len(tinydummy[(tinydummy['AHFSCLSS'].str.startswith('32'))]):\n",
    "            members.loc[k,'contraceptives']=1\n",
    "        if len(tinydummy[(tinydummy['AHFSCLSS'].str.startswith('34'))]):\n",
    "            members.loc[k,'dental']=1\n",
    "        if len(tinydummy[(tinydummy['AHFSCLSS'].str.startswith('40'))]):\n",
    "            members.loc[k,'electrolytic']=1\n",
    "        if len(tinydummy[(tinydummy['AHFSCLSS'].str.startswith('44'))]):\n",
    "            members.loc[k,'enzymes']=1\n",
    "        if len(tinydummy[(tinydummy['AHFSCLSS'].str.startswith('48'))]):\n",
    "            members.loc[k,'coughstuff']=1\n",
    "        if len(tinydummy[(tinydummy['AHFSCLSS'].str.startswith('52'))]):\n",
    "            members.loc[k,'opthamlic']=1\n",
    "        if len(tinydummy[(tinydummy['AHFSCLSS'].str.startswith('56'))]):\n",
    "            members.loc[k,'gastrointestinal']=1\n",
    "        if len(tinydummy[(tinydummy['AHFSCLSS'].str.startswith('68'))]):\n",
    "            members.loc[k,'hormones']=1\n",
    "        if len(tinydummy[(tinydummy['AHFSCLSS'].str.startswith('76'))]):\n",
    "            members.loc[k,'oxytocics']=1\n",
    "        if len(tinydummy[(tinydummy['AHFSCLSS'].str.startswith('84'))]):\n",
    "            members.loc[k,'skinstuff']=1\n",
    "        if len(tinydummy[(tinydummy['AHFSCLSS'].str.startswith('88'))]):\n",
    "            members.loc[k,'vitamins']=1\n",
    "        if len(tinydummy[(tinydummy['AHFSCLSS'].str.startswith('92'))]):\n",
    "            members.loc[k,'asthma/alcohol']=1\n",
    "    except KeyError:\n",
    "        pass"
   ]
  },
  {
   "cell_type": "code",
   "execution_count": null,
   "metadata": {
    "collapsed": true
   },
   "outputs": [],
   "source": [
    "dummy = rxdata.groupby('PATID')['DAYS_FROM_DIAG'].min()\n",
    "for k in range(len(dummy)):\n",
    "    members.at[dummy.index[k], 'minrxday'] = dummy.iat[k]\n",
    "dummy = rxdata.groupby('PATID')['DAYS_FROM_DIAG'].max()\n",
    "for k in range(len(dummy)):\n",
    "    members.at[dummy.index[k], 'maxrxday'] = dummy.iat[k]\n",
    "dummy = medical_wanted.groupby('PATID')['DAYS_FROM_DIAG'].min()\n",
    "for k in range(len(dummy)):\n",
    "    members.at[dummy.index[k], 'minmedicalday'] = dummy.iat[k]\n",
    "dummy = medical_wanted.groupby('PATID')['DAYS_FROM_DIAG'].max()\n",
    "for k in range(len(dummy)):\n",
    "    members.at[dummy.index[k], 'maxmedicalday'] = dummy.iat[k]"
   ]
  },
  {
   "cell_type": "code",
   "execution_count": null,
   "metadata": {
    "collapsed": true
   },
   "outputs": [],
   "source": [
    "members['medicalvisits']=0\n",
    "dummy = medical_wanted.groupby('PATID')\n",
    "patids = list(members.index)\n",
    "\n",
    "for k in patids:\n",
    "    try:\n",
    "        members.loc[k,'medicalvisits']=len(dummy.get_group(k).groupby('DAYS_FROM_DIAG'))\n",
    "    except KeyError:\n",
    "        pass"
   ]
  },
  {
   "cell_type": "code",
   "execution_count": null,
   "metadata": {
    "collapsed": true
   },
   "outputs": [],
   "source": [
    "members['rxfills']=0\n",
    "dummy = rxdata.groupby('PATID')\n",
    "patids = list(members.index)\n",
    "\n",
    "for k in patids:\n",
    "    try:\n",
    "        members.loc[k,'rxfills']=len(dummy.get_group(k))\n",
    "    except KeyError:\n",
    "        pass"
   ]
  },
  {
   "cell_type": "code",
   "execution_count": null,
   "metadata": {
    "collapsed": true
   },
   "outputs": [],
   "source": [
    "members['rxperdoc']=members['rxfills']/(members['medicalvisits']+1) #to avoid infinity"
   ]
  },
  {
   "cell_type": "code",
   "execution_count": null,
   "metadata": {},
   "outputs": [],
   "source": [
    "#incredibly slow, probs don't bother running this.\n",
    "\n",
    "members['avgdaysrxnodoctor']=0\n",
    "dummy=rxdata.groupby('PATID')\n",
    "dummy2=medical_wanted.groupby('PATID')\n",
    "patids = list(members.index)\n",
    "\n",
    "\n",
    "for k in patids:\n",
    "    try:\n",
    "        mylist = []\n",
    "        rxvisits = list(dummy.get_group(k)['DAYS_FROM_DIAG'])\n",
    "        for j in rxvisits:\n",
    "            mylist.append(np.absolute(dummy2.get_group(k)['DAYS_FROM_DIAG']-j).min())           \n",
    "            members.loc[k, 'avgdaysrxnodoctor']=np.mean(mylist)\n",
    "    except KeyError:\n",
    "        pass\n",
    "    "
   ]
  },
  {
   "cell_type": "code",
   "execution_count": null,
   "metadata": {
    "collapsed": true
   },
   "outputs": [],
   "source": [
    "tinydummy = dummy.get_group(k)['DAYS_FROM_DIAG'])\n",
    "        tinydummy['daysfromdoctor']=0"
   ]
  },
  {
   "cell_type": "code",
   "execution_count": null,
   "metadata": {
    "collapsed": true
   },
   "outputs": [],
   "source": [
    "#Interesting codes in AHFSCLSS (so far) \n",
    "#681200: birthcontrol, \n",
    "#682004: biguanides (diabetes related), turns out to be useless\n",
    "#682008: insulin \n",
    "#281604: antidepressents\n",
    "#241212: ED drugs\n",
    "#682020: Glypizide class (some kind of diabetes thing), useless\n",
    "#28080424: Aspirins (salicilate), useless"
   ]
  },
  {
   "cell_type": "code",
   "execution_count": null,
   "metadata": {
    "collapsed": true
   },
   "outputs": [],
   "source": [
    "members['daysperinsulinrx']=0\n",
    "members['daysperantideprx']=0\n",
    "members['daysperbcrx']=0\n",
    "members['daysperedrx']=0\n",
    "members['daysperglyprx']=0\n",
    "members['daysperasprinrx']=0\n",
    "\n",
    "patids = list(members.index)\n",
    "rxdata = rxdata.sort_values('DAYS_FROM_DIAG')\n",
    "dummy = rxdata.groupby('PATID')\n",
    "for k in patids:\n",
    "    try:\n",
    "        tinydummy=dummy.get_group(k)\n",
    "        moretinydummy=tinydummy[tinydummy['AHFSCLSS'].str.startswith('682008')]\n",
    "        if len(moretinydummy)>0:\n",
    "            members.loc[k,'daysperinsulinrx']=moretinydummy['DAYS_FROM_DIAG'].diff(periods=1).mean()\n",
    "        moretinydummy=tinydummy[tinydummy['AHFSCLSS'].str.startswith('281604')]\n",
    "        if len(moretinydummy)>0:\n",
    "            members.loc[k,'daysperantideprx']=moretinydummy['DAYS_FROM_DIAG'].diff(periods=1).mean()\n",
    "        moretinydummy=tinydummy[tinydummy['AHFSCLSS'].str.startswith('681200')]\n",
    "        if len(moretinydummy)>0:\n",
    "            members.loc[k,'daysperbcrx']=moretinydummy['DAYS_FROM_DIAG'].diff(periods=1).mean()\n",
    "        moretinydummy=tinydummy[tinydummy['AHFSCLSS'].str.startswith('241212')]\n",
    "        if len(moretinydummy)>0:\n",
    "            members.loc[k,'daysperedrx']=moretinydummy['DAYS_FROM_DIAG'].diff(periods=1).mean()\n",
    "        moretinydummy=tinydummy[tinydummy['AHFSCLSS'].str.startswith('682020')]\n",
    "\n",
    "\n",
    "    except KeyError:\n",
    "        pass"
   ]
  },
  {
   "cell_type": "code",
   "execution_count": null,
   "metadata": {
    "collapsed": true
   },
   "outputs": [],
   "source": [
    "members['avginsulincost']=0\n",
    "members['avgantidepcost']=0\n",
    "members['averagebccost']=0\n",
    "\n",
    "patids = list(members.index)\n",
    "rxdata = rxdata.sort_values('DAYS_FROM_DIAG')\n",
    "dummy = rxdata.groupby('PATID')\n",
    "for k in patids:\n",
    "    try:\n",
    "        tinydummy=dummy.get_group(k)\n",
    "        moretinydummy=tinydummy[tinydummy['AHFSCLSS'].str.startswith('682008')]\n",
    "        if len(moretinydummy)>0:\n",
    "            members.loc[k,'avginsulincost']=moretinydummy['STD_COST'].mean()\n",
    "        moretinydummy=tinydummy[tinydummy['AHFSCLSS'].str.startswith('281604')]\n",
    "        if len(moretinydummy)>0:\n",
    "            members.loc[k,'avgantidepcost']=moretinydummy['STD_COST'].mean()\n",
    "        moretinydummy=tinydummy[tinydummy['AHFSCLSS'].str.startswith('681200')]\n",
    "        if len(moretinydummy)>0:\n",
    "            members.loc[k,'averagebccost']=moretinydummy['DAYS_FROM_DIAG'].mean()\n",
    "    except KeyError:\n",
    "        pass"
   ]
  },
  {
   "cell_type": "code",
   "execution_count": null,
   "metadata": {
    "collapsed": true
   },
   "outputs": [],
   "source": [
    "members['lasttimerxnodoctor']=np.absolute(members['maxrxday']-members['maxmedicalday'])\n",
    "members['firsttimerxnodoctor']=np.absolute(members['minmedicalday']-members['minrxday'])"
   ]
  },
  {
   "cell_type": "code",
   "execution_count": null,
   "metadata": {
    "collapsed": true
   },
   "outputs": [],
   "source": [
    "#For making plots make more sense\n",
    "\n",
    "#msk = np.random.rand(len(members)) < 0.02\n",
    "#submembers = members[msk]"
   ]
  },
  {
   "cell_type": "code",
   "execution_count": null,
   "metadata": {
    "collapsed": true
   },
   "outputs": [],
   "source": [
    "#Our one good plot\n",
    "\n",
    "#=most recent rx - most recent medical visit + least recent office visit - least recent rx\n",
    "colors = {'Midwest':'red', 'Northeast': 'blue', 'South':'pink', 'UN':'black', 'West':'green'}\n",
    "submembers.plot.scatter(x ='lasttimerxnodoctor', y = 'targetcost', c = members['region'].apply(lambda x: colors[x]))\n",
    "plt.ylim(0, 100000) #not upper limit for this subpopulation\n",
    "#plt.xlim(-50, 50)\n",
    "plt.show()"
   ]
  },
  {
   "cell_type": "code",
   "execution_count": null,
   "metadata": {
    "collapsed": true
   },
   "outputs": [],
   "source": [
    "#next cells generate dummy variables for categorical; drop variables believed to be be unwanted."
   ]
  },
  {
   "cell_type": "code",
   "execution_count": null,
   "metadata": {
    "collapsed": true
   },
   "outputs": [],
   "source": [
    "members_for_work = members\n",
    "dummies = pd.get_dummies(members_for_work.region)\n",
    "members_for_work = members_for_work.join(dummies)\n",
    "dummies = pd.get_dummies(members_for_work.gender)\n",
    "members_for_work = members_for_work.join(dummies)"
   ]
  },
  {
   "cell_type": "code",
   "execution_count": null,
   "metadata": {
    "collapsed": true
   },
   "outputs": [],
   "source": [
    "members_for_work = members_for_work.drop('gender', axis = 1)\n",
    "members_for_work = members_for_work.drop('STATE', axis = 1)\n",
    "members_for_work = members_for_work.drop('region', axis = 1)\n",
    "#members_for_work = members_for_work.drop('minmedicalday', axis = 1)\n",
    "#members_for_work = members_for_work.drop('maxmedicalday', axis = 1)\n",
    "#members_for_work = members_for_work.drop('minrxday', axis = 1)\n",
    "#members_for_work = members_for_work.drop('maxrxday', axis = 1)\n",
    "members_for_work = members_for_work.drop('targetrxcost', axis = 1)\n",
    "members_for_work = members_for_work.drop('targetmedicalcost', axis = 1)\n",
    "members_for_work=members_for_work.fillna(0)"
   ]
  },
  {
   "cell_type": "code",
   "execution_count": null,
   "metadata": {
    "collapsed": true
   },
   "outputs": [],
   "source": [
    "#the next few cells run a really lousy linear regression.  At least if you're lucky they do.\n",
    "from sklearn import linear_model\n",
    "from sklearn.metrics import mean_squared_error, r2_score\n",
    "members_train = members_for_work[:30000]\n",
    "members_test = members_for_work[30000:]\n",
    "members_y_train = members_train[['targetcost']]\n",
    "members_x_train = members_train.drop('targetcost', axis=1)\n",
    "members_y_test = members_test[['targetcost']]\n",
    "members_x_test = members_test.drop('targetcost', axis=1)"
   ]
  },
  {
   "cell_type": "code",
   "execution_count": null,
   "metadata": {
    "collapsed": true
   },
   "outputs": [],
   "source": [
    "regr = linear_model.LinearRegression()\n",
    "regr.fit(members_x_train, members_y_train)\n",
    "members_y_pred= (regr.predict(members_x_test))"
   ]
  },
  {
   "cell_type": "code",
   "execution_count": null,
   "metadata": {
    "collapsed": true
   },
   "outputs": [],
   "source": [
    "mean_squared_error(members_y_test, members_y_pred)"
   ]
  },
  {
   "cell_type": "code",
   "execution_count": null,
   "metadata": {
    "collapsed": true
   },
   "outputs": [],
   "source": [
    "regr.coef_"
   ]
  },
  {
   "cell_type": "code",
   "execution_count": null,
   "metadata": {
    "collapsed": true
   },
   "outputs": [],
   "source": [
    "members_x_train.columns"
   ]
  },
  {
   "cell_type": "code",
   "execution_count": null,
   "metadata": {
    "collapsed": true
   },
   "outputs": [],
   "source": [
    "plt.scatter(members_y_test, members_y_pred)\n",
    "plt.xlim=(0,100000)\n",
    "plt.show()"
   ]
  },
  {
   "cell_type": "code",
   "execution_count": null,
   "metadata": {
    "collapsed": true
   },
   "outputs": [],
   "source": [
    "#These cells run various tree algorithms.  Whee"
   ]
  },
  {
   "cell_type": "code",
   "execution_count": null,
   "metadata": {
    "collapsed": true
   },
   "outputs": [],
   "source": [
    "from sklearn.tree import DecisionTreeClassifier"
   ]
  },
  {
   "cell_type": "code",
   "execution_count": null,
   "metadata": {
    "collapsed": true
   },
   "outputs": [],
   "source": [
    "members_for_trees = members_for_work"
   ]
  },
  {
   "cell_type": "code",
   "execution_count": null,
   "metadata": {
    "collapsed": true
   },
   "outputs": [],
   "source": [
    "#Drop variables known to be useless for both types of trees (see end of notebook for code to checkvariable strength)\n",
    "members_for_trees = members_for_trees.drop('psychvisits', axis = 1)\n",
    "members_for_trees = members_for_trees.drop('elderlyvisits', axis = 1)\n",
    "members_for_trees = members_for_trees.drop('dialysisvisits', axis = 1)\n",
    "members_for_trees = members_for_trees.drop('hospicevisits', axis = 1)"
   ]
  },
  {
   "cell_type": "code",
   "execution_count": null,
   "metadata": {},
   "outputs": [],
   "source": [
    "#Make True/False variable for our trees\n",
    "members_for_trees_expensive = members_for_trees[members_for_trees['targetcost']>=12500]\n",
    "members_for_trees_expensive['expensive']=True\n",
    "members_for_trees_inexpensive = members_for_trees[members_for_trees['targetcost']<12500]\n",
    "members_for_trees_inexpensive['expensive']=False\n",
    "members_for_trees = members_for_trees_expensive.append(members_for_trees_inexpensive)\n",
    "\n",
    "members_for_trees_vexpensive = members_for_trees[members_for_trees['targetcost']>=100000]"
   ]
  },
  {
   "cell_type": "code",
   "execution_count": null,
   "metadata": {},
   "outputs": [],
   "source": [
    "from sklearn.tree import DecisionTreeClassifier\n",
    "\n",
    "#Make a little dataframe that's half expensive, half not, choosing a random collection on inexpensive each time\n",
    "percentage = float(len(members_for_trees_vexpensive))/len(members_for_trees_inexpensive)\n",
    "msk = np.random.rand(len(members_for_trees_inexpensive)) < percentage\n",
    "members_for_small_trees = members_for_trees_expensive.append(members_for_trees_inexpensive[msk])\n",
    "\n",
    "print len(members_for_trees_inexpensive[msk])\n",
    "#Now choose a random subset of that for training/testing\n",
    "msk = np.random.rand(len(members_for_small_trees)) < 0.8\n",
    "members_small_train = members_for_small_trees[msk]\n",
    "members_small_test = members_for_small_trees[~msk]\n",
    "\n",
    "#Take away the answers\n",
    "y_train = members_small_train['expensive']\n",
    "y_test = members_small_test['expensive']\n",
    "x_train = members_small_train.drop('expensive', axis = 1)\n",
    "msk = np.random.rand(len(members_for_trees)) < 0.8\n",
    "\n",
    "x_train = x_train.drop('targetcost', axis = 1)\n",
    "x_test = members_small_test.drop('expensive', axis = 1)\n",
    "x_test = x_test.drop('targetcost', axis = 1)\n",
    "\n",
    "#Make the tree\n",
    "dt = DecisionTreeClassifier(min_samples_split=200)\n",
    "dt.fit(x_train, y_train)\n",
    "\n",
    "#Add predictions to original stuff\n",
    "pred = list(dt.predict(x_test))\n",
    "members_small_test['pred']=pred\n",
    "#hell if I know how to make a confusion matrix\n",
    "check=members_small_test[['targetcost','expensive', 'pred']].sort_values('targetcost', ascending = 0)\n",
    "check_truetrue = check[check['expensive'] & check['pred']]\n",
    "check_true = check[check['expensive']]\n",
    "check_predtrue = check[check['pred']]\n",
    "#check_falsefalse = check[(not check['expensive']) & (not check['pred'])]\n",
    "#check_falseneg = check[(check['expensive']) & (not check['pred'])]\n",
    "#check_falsepos = check[(not check['expensive']) & (check['pred'])]\n",
    "print float(len(check_truetrue))/len(check_true)\n",
    "print float(len(check_truetrue))/len(check_predtrue)"
   ]
  },
  {
   "cell_type": "code",
   "execution_count": null,
   "metadata": {},
   "outputs": [],
   "source": [
    "#All the same stuff, but with the full data.  Run as is to test your tree from above on the full data. (SPOILER ALERT: it sucks)\n",
    "#remove comments on dt below to train a tree on the full data set.\n",
    "msk = np.random.rand(len(members_for_trees)) < 0.8\n",
    "members_train = members_for_trees[msk]\n",
    "members_test = members_for_trees[~msk]\n",
    "print len(members_train)\n",
    "print len(members_test)\n",
    "\n",
    "y_train = members_train['expensive']\n",
    "y_test = members_test['expensive']\n",
    "x_train = members_train.drop('expensive', axis = 1)\n",
    "x_train = x_train.drop('targetcost', axis = 1)\n",
    "x_test = members_test.drop('expensive', axis = 1)\n",
    "x_test = x_test.drop('targetcost', axis = 1)\n",
    "\n",
    "#dt = DecisionTreeClassifier(min_samples_split=500)\n",
    "#dt.fit(x_train, y_train)\n",
    "\n",
    "#I played around with samples_split and we're not going to do better than 33% true accuracy, it would seem\n",
    "pred = list(dt.predict(x_test))\n",
    "members_test['pred']=pred\n",
    "#hell if I know how to make a confusion matrix\n",
    "check=members_test[['targetcost','expensive', 'pred']].sort_values('targetcost', ascending = 0)\n",
    "check_truetrue = check[check['expensive'] & check['pred']]\n",
    "check_true = check[check['expensive']]\n",
    "check_predtrue = check[check['pred']]\n",
    "#check_falsefalse = check[(not check['expensive']) & (not check['pred'])]\n",
    "#check_falseneg = check[(check['expensive']) & (not check['pred'])]\n",
    "#check_falsepos = check[(not check['expensive']) & (check['pred'])]\n",
    "print float(len(check_truetrue))/len(check_true)\n",
    "print float(len(check_truetrue))/len(check_predtrue)"
   ]
  },
  {
   "cell_type": "code",
   "execution_count": null,
   "metadata": {
    "collapsed": true
   },
   "outputs": [],
   "source": [
    "#crossvalidation setup - presently designed for big trees\n",
    "y_train = members_for_trees['expensive']\n",
    "x_train = members_for_trees.drop('expensive', axis = 1)\n",
    "x_train = x_train.drop('targetcost', axis = 1)\n",
    "\n",
    "from sklearn.metrics import precision_score, make_scorer\n",
    "from sklearn.model_selection import cross_val_score\n",
    "score = make_scorer(precision_score)\n",
    "\n",
    "output = []\n",
    "for k in range(10):\n",
    "    dt = DecisionTreeClassifier(min_samples_split=100*(k+1))\n",
    "    scores = cross_val_score(dt, x_train, y_train, cv=10, scoring = score)\n",
    "    output.append(sum(scores)/len(scores))"
   ]
  },
  {
   "cell_type": "code",
   "execution_count": null,
   "metadata": {
    "collapsed": true
   },
   "outputs": [],
   "source": [
    "output"
   ]
  },
  {
   "cell_type": "code",
   "execution_count": null,
   "metadata": {
    "collapsed": true
   },
   "outputs": [],
   "source": [
    "#I copy pasted this from stackoverflow\n",
    "from sklearn.tree import _tree\n",
    "\n",
    "def tree_to_code(tree, feature_names):\n",
    "    tree_ = tree.tree_\n",
    "    feature_name = [\n",
    "        feature_names[i] if i != _tree.TREE_UNDEFINED else \"undefined!\"\n",
    "        for i in tree_.feature\n",
    "    ]\n",
    "    print \"def tree({}):\".format(\", \".join(feature_names))\n",
    "\n",
    "    def recurse(node, depth):\n",
    "        indent = \"  \" * depth\n",
    "        if tree_.feature[node] != _tree.TREE_UNDEFINED:\n",
    "            name = feature_name[node]\n",
    "            threshold = tree_.threshold[node]\n",
    "            print \"{}if {} <= {}:\".format(indent, name, threshold)\n",
    "            recurse(tree_.children_left[node], depth + 1)\n",
    "            print \"{}else:  # if {} > {}\".format(indent, name, threshold)\n",
    "            recurse(tree_.children_right[node], depth + 1)\n",
    "        else:\n",
    "            print \"{}return {}\".format(indent, tree_.value[node])\n",
    "\n",
    "    recurse(0, 1)"
   ]
  },
  {
   "cell_type": "code",
   "execution_count": null,
   "metadata": {},
   "outputs": [],
   "source": [
    "#It generates some cool stuff like so:\n",
    "tree_to_code(dt, x_train.columns)"
   ]
  },
  {
   "cell_type": "code",
   "execution_count": null,
   "metadata": {},
   "outputs": [],
   "source": [
    "#Crossvalidation for variable importance for trees on little sets.\n",
    "\n",
    "importances = [0 for k in range(71)]\n",
    "k=0\n",
    "while k < 100:\n",
    "    percentage = float(len(members_for_trees_expensive))/len(members_for_trees_inexpensive)\n",
    "    msk = np.random.rand(len(members_for_trees_inexpensive)) < percentage\n",
    "    members_for_small_trees = members_for_trees_expensive.append(members_for_trees_inexpensive[msk])\n",
    "    y_train = members_for_small_trees['expensive']\n",
    "    x_train = members_for_small_trees.drop('expensive', axis = 1)\n",
    "    x_train = x_train.drop('targetcost', axis = 1)\n",
    "\n",
    "    from sklearn.ensemble import ExtraTreesClassifier\n",
    "    model = ExtraTreesClassifier()\n",
    "    model.fit(x_train, y_train)\n",
    "    importances += model.feature_importances_\n",
    "\n",
    "    k += 1\n",
    "plt.figure()\n",
    "plt.title(\"Feature importances\")\n",
    "plt.bar(range(x_train.shape[1]), importances,\n",
    "        color=\"r\", align=\"center\")\n",
    "plt.xticks(range(x_train.shape[1]), range(len(x_train.columns)))\n",
    "plt.xlim([-1, x_train.shape[1]])\n",
    "plt.show()"
   ]
  },
  {
   "cell_type": "code",
   "execution_count": null,
   "metadata": {},
   "outputs": [],
   "source": [
    "#happy counting\n",
    "\n",
    "x_train.columns "
   ]
  }
 ],
 "metadata": {
  "kernelspec": {
   "display_name": "Python 2",
   "language": "python",
   "name": "python2"
  },
  "language_info": {
   "codemirror_mode": {
    "name": "ipython",
    "version": 2
   },
   "file_extension": ".py",
   "mimetype": "text/x-python",
   "name": "python",
   "nbconvert_exporter": "python",
   "pygments_lexer": "ipython2",
   "version": "2.7.13"
  }
 },
 "nbformat": 4,
 "nbformat_minor": 2
}
