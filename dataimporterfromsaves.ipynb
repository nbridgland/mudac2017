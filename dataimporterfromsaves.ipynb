{
 "cells": [
  {
   "cell_type": "code",
   "execution_count": null,
   "metadata": {
    "collapsed": true
   },
   "outputs": [],
   "source": [
    "import csv\n",
    "import numpy as np\n",
    "import pandas as pd\n",
    "import matplotlib.pyplot as plt\n",
    "import seaborn as sns\n",
    "import os.path\n",
    "import time\n",
    "import functions"
   ]
  },
  {
   "cell_type": "code",
   "execution_count": null,
   "metadata": {
    "collapsed": true
   },
   "outputs": [],
   "source": [
    "filepath ='data/'\n",
    "csvfilenames = ['confinement_training.csv', \n",
    "                'member_information.csv', \n",
    "                'labresults_training.csv', \n",
    "                'medical_training.csv', \n",
    "                'rx_training.csv',\n",
    "                'medical_target.csv',\n",
    "                'rx_target.csv']\n",
    "\n",
    "with open('members.csv') as datafile:\n",
    "    filecontents = csv.reader(datafile, delimiter = \",\")\n",
    "    data = list(filecontents)\n",
    "\n",
    "members = pd.DataFrame(data)\n",
    "members.columns = members.iloc[0]\n",
    "members = members[1:]\n",
    "members = members.set_index(['PATID']) #makes PATID the row index instead of integers, not sure it's worth it.\n",
    "\n",
    "with open(filepath+csvfilenames[2]) as datafile:\n",
    "    filecontents = csv.reader(datafile, delimiter = \",\")\n",
    "    data = list(filecontents)\n",
    "\n",
    "labdata = pd.DataFrame(data)\n",
    "labdata.columns = labdata.iloc[0]\n",
    "labdata = labdata[1:]\n",
    "\n",
    "with open('trainingmedicalwanted.csv') as datafile:\n",
    "    filecontents = csv.reader(datafile, delimiter = \",\")\n",
    "    data = list(filecontents)\n",
    "\n",
    "medical_wanted = pd.DataFrame(data)\n",
    "medical_wanted.columns = medical_wanted.iloc[0]\n",
    "medical_wanted = medical_wanted[1:]\n",
    "\n",
    "with open(filepath+csvfilenames[4]) as datafile:\n",
    "    filecontents = csv.reader(datafile, delimiter = \",\")\n",
    "    data = list(filecontents)\n",
    "\n",
    "rxdata = pd.DataFrame(data)\n",
    "rxdata.columns = rxdata.iloc[0]\n",
    "rxdata = rxdata[1:]\n",
    "\n",
    "with open('targetmedicalwanted.csv') as datafile:\n",
    "    filecontents = csv.reader(datafile, delimiter = \",\")\n",
    "    data = list(filecontents)\n",
    "\n",
    "medical_wanted_t = pd.DataFrame(data)\n",
    "medical_wanted_t.columns = medical_wanted_t.iloc[0]\n",
    "medical_wanted_t = medical_wanted_t[1:]\n",
    "\n",
    "with open(filepath+csvfilenames[6]) as datafile:\n",
    "    filecontents = csv.reader(datafile, delimiter = \",\")\n",
    "    data = list(filecontents)\n",
    "\n",
    "targetrxdata = pd.DataFrame(data)\n",
    "targetrxdata.columns = targetrxdata.iloc[0]\n",
    "targetrxdata = targetrxdata[1:]"
   ]
  },
  {
   "cell_type": "code",
   "execution_count": null,
   "metadata": {
    "collapsed": true
   },
   "outputs": [],
   "source": [
    "#medical_wanted['STD_COST']=medical_wanted['STD_COST'].apply(pd.to_numeric) #change entries to numbers\n",
    "#rxdata.loc[rxdata['STD_COST']=='None', 'STD_COST']=0 #change all nones to zeros\n",
    "#rxdata['STD_COST']=rxdata['STD_COST'].apply(pd.to_numeric) #change all entries to numbers\n",
    "members['year_of_birth']=members['year_of_birth'].apply(pd.to_numeric)\n",
    "members['totalcost']=members['totalcost'].apply(pd.to_numeric)\n",
    "members['targetcost']=members['targetcost'].apply(pd.to_numeric)\n",
    "members['rxcost']=members['rxcost'].apply(pd.to_numeric)\n",
    "members['targetrxcost']=members['targetrxcost'].apply(pd.to_numeric)\n",
    "members['medicalcost']=members['medicalcost'].apply(pd.to_numeric)\n",
    "members['targetmedicalcost']=members['targetmedicalcost'].apply(pd.to_numeric)\n",
    "members['hospicevisits']=members['hospicevisits'].apply(pd.to_numeric)\n",
    "members['officevisits']=members['officevisits'].apply(pd.to_numeric)\n",
    "members['psychvisits']=members['psychvisits'].apply(pd.to_numeric)\n",
    "members['emervisits']=members['emervisits'].apply(pd.to_numeric)\n",
    "members['elderlyvisits']=members['elderlyvisits'].apply(pd.to_numeric)\n",
    "members['unknownvisits']=members['unknownvisits'].apply(pd.to_numeric)\n",
    "members['homevisits']=members['homevisits'].apply(pd.to_numeric)\n",
    "members['dialysisvisits']=members['dialysisvisits'].apply(pd.to_numeric)\n",
    "\n",
    "rxdata['DAYS_FROM_DIAG'] = rxdata['DAYS_FROM_DIAG'].apply(pd.to_numeric)\n",
    "medical_wanted['DAYS_FROM_DIAG'] = medical_wanted['DAYS_FROM_DIAG'].apply(pd.to_numeric)\n",
    "\n",
    "#medical_wanted_t['STD_COST']=medical_wanted_t['STD_COST'].apply(pd.to_numeric) #change entries to numbers\n",
    "#targetrxdata.loc[targetrxdata['STD_COST']=='None', 'STD_COST']=0 #change all nones to zeros\n",
    "#targetrxdata['STD_COST']=targetrxdata['STD_COST'].apply(pd.to_numeric) #change all entries to numbers\n",
    "#targetrxdata['DAYS_FROM_DIAG'] = targetrxdata['DAYS_FROM_DIAG'].apply(pd.to_numeric)\n",
    "#medical_wanted_t['DAYS_FROM_DIAG'] = medical_wanted_t['DAYS_FROM_DIAG'].apply(pd.to_numeric)"
   ]
  },
  {
   "cell_type": "code",
   "execution_count": null,
   "metadata": {
    "collapsed": true
   },
   "outputs": [],
   "source": [
    "#all potentially completely useless\n",
    "dummy = rxdata.groupby('PATID')['DAYS_FROM_DIAG'].min()\n",
    "for k in range(len(dummy)):\n",
    "    members.at[dummy.index[k], 'minrxday'] = dummy.iat[k]\n",
    "dummy = rxdata.groupby('PATID')['DAYS_FROM_DIAG'].max()\n",
    "for k in range(len(dummy)):\n",
    "    members.at[dummy.index[k], 'maxrxday'] = dummy.iat[k]\n",
    "dummy = medical_wanted.groupby('PATID')['DAYS_FROM_DIAG'].min()\n",
    "for k in range(len(dummy)):\n",
    "    members.at[dummy.index[k], 'minmedicalday'] = dummy.iat[k]\n",
    "dummy = medical_wanted.groupby('PATID')['DAYS_FROM_DIAG'].max()\n",
    "for k in range(len(dummy)):\n",
    "    members.at[dummy.index[k], 'maxmedicalday'] = dummy.iat[k]"
   ]
  },
  {
   "cell_type": "code",
   "execution_count": null,
   "metadata": {
    "collapsed": true
   },
   "outputs": [],
   "source": [
    "members['yeartwostart']=2.0/3*members[['minrxday', 'minmedicalday']].min(axis=1)+1.0/3*members[['maxmedicalday', 'maxrxday']].max(axis=1)\n",
    "members['yearthreestart']=1.0/3*members[['minrxday', 'minmedicalday']].min(axis=1)+2.0/3*members[['maxmedicalday', 'maxrxday']].max(axis=1)"
   ]
  },
  {
   "cell_type": "code",
   "execution_count": null,
   "metadata": {},
   "outputs": [],
   "source": [
    "rxdata = rxdata.sort_values('DAYS_FROM_DIAG')\n",
    "patids = list(members.index)\n",
    "dummy = rxdata.groupby('PATID')\n",
    "tinydummy = dummy.get_group(patids[17])\n",
    "tinydummy=tinydummy[tinydummy['AHFSCLSS'].str.startswith('281604')]\n",
    "#tinydummy = tinydummy.sort_values('DAYS_FROM_DIAG')\n",
    "tinydummy['DAYS_FROM_DIAG'].diff(periods=1).mean()\n",
    "\n",
    "#Interesting codes 681200: birthcontrol, 682004: biguanides (diabetes related), 682008: insulin 281604: antidepressents\n",
    "#If women are consistent about taking their birth control but not their insulin, does that mean they just don't need as much?\n",
    "\n"
   ]
  },
  {
   "cell_type": "code",
   "execution_count": null,
   "metadata": {
    "collapsed": true
   },
   "outputs": [],
   "source": [
    "members['daysperinsulinrx']=0\n",
    "patids = list(members.index)\n",
    "rxdata = rxdata.sort_values('DAYS_FROM_DIAG')\n",
    "dummy = rxdata.groupby('PATID')\n",
    "for k in patids:\n",
    "    try:\n",
    "        tinydummy=dummy.get_group(k)\n",
    "        tinydummy=tinydummy[tinydummy['AHFSCLSS'].str.startswith('682008')]\n",
    "        if len(tinydummy)>0:\n",
    "            members.loc[k,'daysperinsulinrx']=tinydummy['DAYS_FROM_DIAG'].diff(periods=1).mean()\n",
    "    except KeyError:\n",
    "        pass\n",
    "\n",
    "\n",
    "members['daysperantideprx']=0\n",
    "patids = list(members.index)\n",
    "rxdata = rxdata.sort_values('DAYS_FROM_DIAG')\n",
    "dummy = rxdata.groupby('PATID')\n",
    "for k in patids:\n",
    "    try:\n",
    "        tinydummy=dummy.get_group(k)\n",
    "        tinydummy=tinydummy[tinydummy['AHFSCLSS'].str.startswith('281604')]\n",
    "        if len(tinydummy)>0:\n",
    "            members.loc[k,'daysperantideprx']=tinydummy['DAYS_FROM_DIAG'].diff(periods=1).mean()\n",
    "    except KeyError:\n",
    "        pass\n",
    "    "
   ]
  },
  {
   "cell_type": "code",
   "execution_count": null,
   "metadata": {
    "collapsed": true
   },
   "outputs": [],
   "source": [
    "members['daysperbcrx']=0\n",
    "patids = list(members.index)\n",
    "rxdata = rxdata.sort_values('DAYS_FROM_DIAG')\n",
    "dummy = rxdata.groupby('PATID')\n",
    "for k in patids:\n",
    "    try:\n",
    "        tinydummy=dummy.get_group(k)\n",
    "        tinydummy=tinydummy[tinydummy['AHFSCLSS'].str.startswith('681200')]\n",
    "        if len(tinydummy)>0:\n",
    "            members.loc[k,'daysperbcrx']=tinydummy['DAYS_FROM_DIAG'].diff(periods=1).mean()\n",
    "    except KeyError:\n",
    "        pass"
   ]
  },
  {
   "cell_type": "code",
   "execution_count": null,
   "metadata": {
    "collapsed": true
   },
   "outputs": [],
   "source": [
    "members['daysperbiguaniderx']=0\n",
    "patids = list(members.index)\n",
    "rxdata = rxdata.sort_values('DAYS_FROM_DIAG')\n",
    "dummy = rxdata.groupby('PATID')\n",
    "for k in patids:\n",
    "    try:\n",
    "        tinydummy=dummy.get_group(k)\n",
    "        tinydummy=tinydummy[tinydummy['AHFSCLSS'].str.startswith('682004')]\n",
    "        if len(tinydummy)>0:\n",
    "            members.loc[k,'daysperbiguaniderx']=tinydummy['DAYS_FROM_DIAG'].diff(periods=1).mean()\n",
    "    except KeyError:\n",
    "        pass"
   ]
  },
  {
   "cell_type": "code",
   "execution_count": null,
   "metadata": {
    "collapsed": true
   },
   "outputs": [],
   "source": [
    "members['daysperalphaglucosidaserx']=0\n",
    "patids = list(members.index)\n",
    "rxdata = rxdata.sort_values('DAYS_FROM_DIAG')\n",
    "dummy = rxdata.groupby('PATID')\n",
    "for k in patids:\n",
    "    try:\n",
    "        tinydummy=dummy.get_group(k)\n",
    "        tinydummy=tinydummy[tinydummy['AHFSCLSS'].str.startswith('682002')]\n",
    "        if len(tinydummy)>0:\n",
    "            members.loc[k,'daysperalphaglucosidaserx']=tinydummy['DAYS_FROM_DIAG'].diff(periods=1).mean()\n",
    "    except KeyError:\n",
    "        pass"
   ]
  },
  {
   "cell_type": "code",
   "execution_count": null,
   "metadata": {
    "collapsed": true
   },
   "outputs": [],
   "source": [
    "members['timerxnodoctor']=members['maxrxday']-members['maxmedicalday']"
   ]
  },
  {
   "cell_type": "code",
   "execution_count": null,
   "metadata": {},
   "outputs": [],
   "source": [
    "members"
   ]
  },
  {
   "cell_type": "code",
   "execution_count": null,
   "metadata": {
    "collapsed": true
   },
   "outputs": [],
   "source": [
    "#Plot average cost for all POS codes\n",
    "location_series = medical_wanted.groupby('POS')['STD_COST'].mean()\n",
    "\n",
    "location_series.plot.bar()\n",
    "plt.ylim([0,2000])\n",
    "plt.show()"
   ]
  },
  {
   "cell_type": "code",
   "execution_count": null,
   "metadata": {
    "collapsed": true
   },
   "outputs": [],
   "source": [
    "# Add new column for region (should find a way to avoid this with groupby, but can't currently)\n",
    "members['region'] = members.apply(lambda row: functions.US_region(row), axis=1)\n",
    "\n",
    "region_series = members.groupby('region')['totalcost'].mean()\n",
    "\n",
    "region_series.plot.bar()\n",
    "plt.show()"
   ]
  },
  {
   "cell_type": "code",
   "execution_count": null,
   "metadata": {
    "collapsed": true
   },
   "outputs": [],
   "source": [
    "members.to_csv('members.csv')\n"
   ]
  },
  {
   "cell_type": "code",
   "execution_count": null,
   "metadata": {},
   "outputs": [],
   "source": [
    "# A collection of plots:\n",
    "#Note: in this situation, we're looking for people who cost around 12k and more:\n",
    "members.sort_values('targetcost', ascending = 0).iloc[6000]"
   ]
  },
  {
   "cell_type": "code",
   "execution_count": null,
   "metadata": {},
   "outputs": [],
   "source": [
    "# Also note we're looking for a little more than the upper 15% of costs:\n",
    "series = members['targetcost']\n",
    "series.quantile([.15, .3, .5, .7, .85, .9 , .95, 1])"
   ]
  },
  {
   "cell_type": "code",
   "execution_count": null,
   "metadata": {},
   "outputs": [],
   "source": [
    "members"
   ]
  },
  {
   "cell_type": "code",
   "execution_count": null,
   "metadata": {},
   "outputs": [],
   "source": [
    "colors = {'Midwest':'red', 'Northeast': 'blue', 'South':'pink', 'UN':'black', 'West':'green'}\n",
    "#colors = {'F': 'red', 'M': 'blue', 'U': 'green'}\n",
    "members.plot.scatter(x ='totalcost', y = 'targetcost', c = members['region'].apply(lambda x: colors[x]))\n",
    "#plt.ylim(0, 300000) #not the actual upper limit, ignoring ncdude\n",
    "#plt.xlim(0, 3000000)\n",
    "plt.show()"
   ]
  },
  {
   "cell_type": "code",
   "execution_count": null,
   "metadata": {},
   "outputs": [],
   "source": [
    "colors = {'Midwest':'red', 'Northeast': 'blue', 'South':'pink', 'UN':'black', 'West':'green'}\n",
    "members.plot.scatter(x ='totalcost', y = 'targetcost', c = members['region'].apply(lambda x: colors[x]))\n",
    "plt.ylim(0, 110000) #not the actual upper limit, ignoring ncdude\n",
    "plt.xlim(100000, 3000000)\n",
    "plt.show()\n",
    "#it appears we can safely exclude people who cost more than 1000000 to begin with.\n",
    "#Err, include."
   ]
  },
  {
   "cell_type": "code",
   "execution_count": null,
   "metadata": {
    "collapsed": true
   },
   "outputs": [],
   "source": [
    "submembers = members[members['totalcost']<1000000]"
   ]
  },
  {
   "cell_type": "code",
   "execution_count": null,
   "metadata": {},
   "outputs": [],
   "source": [
    "colors = {'Midwest':'red', 'Northeast': 'blue', 'South':'pink', 'UN':'black', 'West':'green'}\n",
    "submembers.plot.scatter(x ='totalcost', y = 'targetcost', c = members['region'].apply(lambda x: colors[x]))\n",
    "#plt.ylim(0, 300000) #not the actual upper limit, ignoring ncdude\n",
    "#plt.xlim(0, 3000000)\n",
    "plt.show()"
   ]
  },
  {
   "cell_type": "code",
   "execution_count": null,
   "metadata": {},
   "outputs": [],
   "source": [
    "colors = {'Midwest':'red', 'Northeast': 'blue', 'South':'pink', 'UN':'black', 'West':'green'}\n",
    "submembers.plot.scatter(x ='rxcost', y = 'targetcost', c = members['region'].apply(lambda x: colors[x]))\n",
    "plt.show()"
   ]
  },
  {
   "cell_type": "code",
   "execution_count": null,
   "metadata": {},
   "outputs": [],
   "source": [
    "colors = {'Midwest':'red', 'Northeast': 'blue', 'South':'pink', 'UN':'black', 'West':'green'}\n",
    "submembers.plot.scatter(x ='hospicevisits', y = 'totalcost', c = members['region'].apply(lambda x: colors[x]))\n",
    "plt.ylim(0, 600000) #actually upper limit for this subpopulation\n",
    "plt.xlim(1, 50) #ignore the 0s\n",
    "plt.show()"
   ]
  },
  {
   "cell_type": "code",
   "execution_count": null,
   "metadata": {
    "collapsed": true
   },
   "outputs": [],
   "source": [
    "submembers = submembers[submembers['hospicevisits']<15]"
   ]
  },
  {
   "cell_type": "code",
   "execution_count": null,
   "metadata": {},
   "outputs": [],
   "source": [
    "colors = {'Midwest':'red', 'Northeast': 'blue', 'South':'pink', 'UN':'black', 'West':'green'}\n",
    "submembers.plot.scatter(x ='rxcost', y = 'targetcost', c = members['region'].apply(lambda x: colors[x]))\n",
    "#plt.ylim(0, 100000) #not the actual upper limit\n",
    "plt.xlim(0,1000000)\n",
    "plt.show()"
   ]
  },
  {
   "cell_type": "code",
   "execution_count": null,
   "metadata": {},
   "outputs": [],
   "source": [
    "#can safely remove people who spent more than 400000 on prescriptions \n",
    "#(but what's going on with the people who went from 300000 to 0???)\n",
    "colors = {'Midwest':'red', 'Northeast': 'blue', 'South':'pink', 'UN':'black', 'West':'green'}\n",
    "submembers.plot.scatter(x ='rxcost', y = 'targetcost', c = members['region'].apply(lambda x: colors[x]))\n",
    "plt.ylim(0, 100000) # not upper limit for this subpopulation\n",
    "plt.xlim(300000, 800000) #ignore the 0s\n",
    "plt.show()"
   ]
  },
  {
   "cell_type": "code",
   "execution_count": null,
   "metadata": {
    "collapsed": true
   },
   "outputs": [],
   "source": [
    "submembers = submembers[submembers['rxcost']<400000]"
   ]
  },
  {
   "cell_type": "code",
   "execution_count": null,
   "metadata": {},
   "outputs": [],
   "source": [
    "#there's a point at which high numbers of office visits imply something\n",
    "colors = {'Midwest':'red', 'Northeast': 'blue', 'South':'pink', 'UN':'black', 'West':'green'}\n",
    "submembers.plot.scatter(x ='officevisits', y = 'targetcost', c = members['region'].apply(lambda x: colors[x]))\n",
    "plt.ylim(0, 100000) # not upper limit for this subpopulation\n",
    "#plt.xlim(200, 900) #just compressing a little\n",
    "plt.show()"
   ]
  },
  {
   "cell_type": "code",
   "execution_count": null,
   "metadata": {},
   "outputs": [],
   "source": [
    "#not so much with high numbers of emergency room visits\n",
    "colors = {'Midwest':'red', 'Northeast': 'blue', 'South':'pink', 'UN':'black', 'West':'green'}\n",
    "submembers.plot.scatter(x ='emervisits', y = 'targetcost', c = members['region'].apply(lambda x: colors[x]))\n",
    "plt.ylim(0, 100000) # not upper limit for this subpopulation\n",
    "plt.xlim(50, 300) #just compressing a little\n",
    "plt.show()"
   ]
  },
  {
   "cell_type": "code",
   "execution_count": null,
   "metadata": {},
   "outputs": [],
   "source": [
    "#maybe with psychiatric though\n",
    "colors = {'Midwest':'red', 'Northeast': 'blue', 'South':'pink', 'UN':'black', 'West':'green'}\n",
    "submembers.plot.scatter(x ='psychvisits', y = 'targetcost', c = members['region'].apply(lambda x: colors[x]))\n",
    "#plt.ylim(0, 100000) # not upper limit for this subpopulation\n",
    "#plt.xlim(20, 60) #just compressing a little\n",
    "plt.show()"
   ]
  },
  {
   "cell_type": "code",
   "execution_count": null,
   "metadata": {},
   "outputs": [],
   "source": [
    "#=most recent rx - most recent medical visit + least recent office visit - least recent rx\n",
    "colors = {'Midwest':'red', 'Northeast': 'blue', 'South':'pink', 'UN':'black', 'West':'green'}\n",
    "submembers.plot.scatter(x ='timerxnodoctor', y = 'targetcost', c = members['region'].apply(lambda x: colors[x]))\n",
    "plt.ylim(0, 100000) #not upper limit for this subpopulation\n",
    "plt.xlim(0, 100)\n",
    "plt.show()"
   ]
  },
  {
   "cell_type": "code",
   "execution_count": null,
   "metadata": {},
   "outputs": [],
   "source": [
    "colors = {'Midwest':'red', 'Northeast': 'blue', 'South':'pink', 'UN':'black', 'West':'green'}\n",
    "members.plot.scatter(x ='daysperinsulinrx', y = 'targetcost', c = members['region'].apply(lambda x: colors[x]))\n",
    "#plt.ylim(0, 100000) #not upper limit for this subpopulation\n",
    "#plt.xlim(2, 100) \n",
    "plt.show()"
   ]
  },
  {
   "cell_type": "code",
   "execution_count": null,
   "metadata": {},
   "outputs": [],
   "source": [
    "colors = {'Midwest':'red', 'Northeast': 'blue', 'South':'pink', 'UN':'black', 'West':'green'}\n",
    "members.plot.scatter(x ='daysperantideprx', y = 'targetcost', c = members['region'].apply(lambda x: colors[x]))\n",
    "plt.ylim(0, 100000) #not upper limit for this subpopulation\n",
    "plt.xlim(50, 100) \n",
    "plt.show()"
   ]
  },
  {
   "cell_type": "code",
   "execution_count": null,
   "metadata": {},
   "outputs": [],
   "source": [
    "colors = {'Midwest':'red', 'Northeast': 'blue', 'South':'pink', 'UN':'black', 'West':'green'}\n",
    "members.plot.scatter(x ='daysperbcrx', y = 'targetcost', c = members['region'].apply(lambda x: colors[x]))\n",
    "plt.ylim(0, 100000) #not upper limit for this subpopulation\n",
    "plt.xlim(2,100) \n",
    "plt.show()"
   ]
  },
  {
   "cell_type": "code",
   "execution_count": null,
   "metadata": {},
   "outputs": [],
   "source": [
    "colors = {'Midwest':'red', 'Northeast': 'blue', 'South':'pink', 'UN':'black', 'West':'green'}\n",
    "members.plot.scatter(x ='daysperbiguaniderx', y = 'targetcost', c = members['region'].apply(lambda x: colors[x]))\n",
    "plt.ylim(0, 100000) #not upper limit for this subpopulation\n",
    "plt.xlim(2, 1200) \n",
    "plt.show()"
   ]
  },
  {
   "cell_type": "code",
   "execution_count": null,
   "metadata": {},
   "outputs": [],
   "source": [
    "colors = {'Midwest':'red', 'Northeast': 'blue', 'South':'pink', 'UN':'black', 'West':'green'}\n",
    "members.plot.scatter(x ='daysperalphaglucosidaserx', y = 'targetcost', c = members['region'].apply(lambda x: colors[x]))\n",
    "plt.ylim(0, 100000) #not upper limit for this subpopulation\n",
    "plt.xlim(2, 1200) \n",
    "plt.show()"
   ]
  },
  {
   "cell_type": "code",
   "execution_count": null,
   "metadata": {},
   "outputs": [],
   "source": [
    "colors = {'Midwest':'red', 'Northeast': 'blue', 'South':'pink', 'UN':'black', 'West':'green'}\n",
    "members.plot.scatter(x ='rxfills', y = 'targetcost', c = members['region'].apply(lambda x: colors[x]))\n",
    "plt.ylim(0, 1000000) #not upper limit for this subpopulation\n",
    "#plt.xlim(2, 1200) \n",
    "plt.show()"
   ]
  },
  {
   "cell_type": "code",
   "execution_count": null,
   "metadata": {},
   "outputs": [],
   "source": [
    "colors = {'Midwest':'red', 'Northeast': 'blue', 'South':'pink', 'UN':'black', 'West':'green'}\n",
    "members.plot.scatter(x ='rxfills', y = 'rxcost', c = members['region'].apply(lambda x: colors[x]))\n",
    "plt.ylim(0, 1000000) #not upper limit for this subpopulation\n",
    "#plt.xlim(2, 1200) \n",
    "plt.show()"
   ]
  },
  {
   "cell_type": "code",
   "execution_count": null,
   "metadata": {},
   "outputs": [],
   "source": [
    "members[['totalcost','targetcost','daysperinsulinrx', 'daysperbcrx', 'daysperantideprx']]"
   ]
  },
  {
   "cell_type": "code",
   "execution_count": null,
   "metadata": {},
   "outputs": [],
   "source": [
    "members.loc['33052095880.0']"
   ]
  },
  {
   "cell_type": "code",
   "execution_count": null,
   "metadata": {
    "collapsed": true
   },
   "outputs": [],
   "source": [
    "from matplotlib.mlab import PCA"
   ]
  },
  {
   "cell_type": "code",
   "execution_count": null,
   "metadata": {
    "collapsed": true
   },
   "outputs": [],
   "source": [
    "results = PCA(members[['totalcost','rxcost', 'medicalcost']])"
   ]
  },
  {
   "cell_type": "code",
   "execution_count": null,
   "metadata": {},
   "outputs": [],
   "source": [
    "results.fracs"
   ]
  },
  {
   "cell_type": "code",
   "execution_count": null,
   "metadata": {
    "collapsed": true
   },
   "outputs": [],
   "source": [
    "results = PCA(members[['totalcost','medicalcost', 'rxcost']])"
   ]
  },
  {
   "cell_type": "code",
   "execution_count": null,
   "metadata": {},
   "outputs": [],
   "source": [
    "results.fracs"
   ]
  },
  {
   "cell_type": "code",
   "execution_count": null,
   "metadata": {},
   "outputs": [],
   "source": [
    "results.Y"
   ]
  },
  {
   "cell_type": "code",
   "execution_count": null,
   "metadata": {},
   "outputs": [],
   "source": [
    "members.columns"
   ]
  },
  {
   "cell_type": "code",
   "execution_count": null,
   "metadata": {
    "collapsed": true
   },
   "outputs": [],
   "source": [
    "members_for_work = members\n",
    "dummies = pd.get_dummies(members_for_work.region)\n",
    "members_for_work = members_for_work.join(dummies)\n",
    "dummies = pd.get_dummies(members_for_work.gender)\n",
    "members_for_work = members_for_work.join(dummies)"
   ]
  },
  {
   "cell_type": "code",
   "execution_count": null,
   "metadata": {},
   "outputs": [],
   "source": [
    "members_for_work = members_for_work.drop('gender', axis = 1)\n",
    "members_for_work = members_for_work.drop('STATE', axis = 1)\n",
    "members_for_work = members_for_work.drop('region', axis = 1)\n",
    "members_for_work = members_for_work.drop('minmedicalday', axis = 1)\n",
    "members_for_work = members_for_work.drop('maxmedicalday', axis = 1)\n",
    "members_for_work = members_for_work.drop('minrxday', axis = 1)\n",
    "members_for_work = members_for_work.drop('maxrxday', axis = 1)\n",
    "members_for_work = members_for_work.drop('yeartwostart', axis = 1)\n",
    "members_for_work = members_for_work.drop('yearthreestart', axis = 1)\n",
    "members_for_work = members_for_work.drop('targetrxcost', axis = 1)\n",
    "members_for_work = members_for_work.drop('targetmedicalcost', axis = 1)\n",
    "members_for_work=members_for_work.fillna(0)"
   ]
  },
  {
   "cell_type": "code",
   "execution_count": null,
   "metadata": {
    "collapsed": true
   },
   "outputs": [],
   "source": [
    "from sklearn import linear_model\n",
    "members_train = members_for_work[:30000]\n",
    "members_test = members_for_work[30000:]\n",
    "members_y_train = members_train[['targetcost']]\n",
    "members_x_train = members_train.drop('targetcost', axis=1)\n",
    "members_y_test = members_test[['targetcost']]\n",
    "members_x_test = members_test.drop('targetcost', axis=1)"
   ]
  },
  {
   "cell_type": "code",
   "execution_count": null,
   "metadata": {},
   "outputs": [],
   "source": [
    "#np.where(np.asanyarray(np.isnan(members_for_work)))"
   ]
  },
  {
   "cell_type": "code",
   "execution_count": null,
   "metadata": {},
   "outputs": [],
   "source": [
    "#regr = linear_model.LinearRegression()\n",
    "regr.fit(members_x_train, members_y_train)"
   ]
  },
  {
   "cell_type": "code",
   "execution_count": null,
   "metadata": {
    "collapsed": true
   },
   "outputs": [],
   "source": [
    "members_y_pred= (regr.predict(members_x_test))"
   ]
  },
  {
   "cell_type": "code",
   "execution_count": null,
   "metadata": {},
   "outputs": [],
   "source": [
    "from sklearn.metrics import mean_squared_error, r2_score\n",
    "mean_squared_error(members_y_test, members_y_pred)"
   ]
  },
  {
   "cell_type": "code",
   "execution_count": null,
   "metadata": {},
   "outputs": [],
   "source": [
    "regr.coef_"
   ]
  },
  {
   "cell_type": "code",
   "execution_count": null,
   "metadata": {},
   "outputs": [],
   "source": [
    "members_x_train.columns"
   ]
  },
  {
   "cell_type": "code",
   "execution_count": null,
   "metadata": {},
   "outputs": [],
   "source": [
    "plt.scatter(members_y_test, members_y_pred)\n",
    "plt.xlim=(0,100000)\n",
    "plt.show()"
   ]
  },
  {
   "cell_type": "code",
   "execution_count": null,
   "metadata": {
    "collapsed": true
   },
   "outputs": [],
   "source": []
  }
 ],
 "metadata": {
  "kernelspec": {
   "display_name": "Python 2",
   "language": "python",
   "name": "python2"
  },
  "language_info": {
   "codemirror_mode": {
    "name": "ipython",
    "version": 2
   },
   "file_extension": ".py",
   "mimetype": "text/x-python",
   "name": "python",
   "nbconvert_exporter": "python",
   "pygments_lexer": "ipython2",
   "version": "2.7.13"
  }
 },
 "nbformat": 4,
 "nbformat_minor": 2
}
